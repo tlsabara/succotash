{
 "cells": [
  {
   "cell_type": "code",
   "execution_count": 1,
   "metadata": {
    "collapsed": true,
    "ExecuteTime": {
     "start_time": "2023-04-19T17:36:46.806658Z",
     "end_time": "2023-04-19T17:36:46.943772Z"
    }
   },
   "outputs": [],
   "source": [
    "import pandas as pd\n",
    "import sqlalchemy as alch\n",
    "from pathlib import Path\n",
    "import matplotlib\n",
    "import os\n",
    "import seaborn as sns\n"
   ]
  },
  {
   "cell_type": "code",
   "execution_count": 2,
   "outputs": [],
   "source": [
    "%matplotlib inline"
   ],
   "metadata": {
    "collapsed": false,
    "ExecuteTime": {
     "start_time": "2023-04-19T17:36:46.946771Z",
     "end_time": "2023-04-19T17:36:46.962283Z"
    }
   }
  },
  {
   "cell_type": "code",
   "execution_count": 3,
   "outputs": [
    {
     "name": "stdout",
     "output_type": "stream",
     "text": [
      "/home/tlsabara/Git/succotash\n"
     ]
    }
   ],
   "source": [
    "ROOT_DIR = Path(os.path.abspath(os.path.curdir)).parent\n",
    "print(ROOT_DIR)"
   ],
   "metadata": {
    "collapsed": false,
    "ExecuteTime": {
     "start_time": "2023-04-19T17:36:46.962283Z",
     "end_time": "2023-04-19T17:36:46.968475Z"
    }
   }
  },
  {
   "cell_type": "code",
   "execution_count": 4,
   "outputs": [],
   "source": [
    "src_data = ROOT_DIR / 'idesp_collector' / 'arquivo_scrap.csv'\n"
   ],
   "metadata": {
    "collapsed": false,
    "ExecuteTime": {
     "start_time": "2023-04-19T17:36:46.968475Z",
     "end_time": "2023-04-19T17:36:46.976463Z"
    }
   }
  },
  {
   "cell_type": "code",
   "execution_count": 5,
   "outputs": [
    {
     "name": "stderr",
     "output_type": "stream",
     "text": [
      "/tmp/ipykernel_4662/196715292.py:1: DtypeWarning: Columns (10,11,12,13,14,15,16,17,18,19) have mixed types. Specify dtype option on import or set low_memory=False.\n",
      "  df = pd.read_csv(src_data)\n"
     ]
    }
   ],
   "source": [
    "df = pd.read_csv(src_data)"
   ],
   "metadata": {
    "collapsed": false,
    "ExecuteTime": {
     "start_time": "2023-04-19T17:36:46.975464Z",
     "end_time": "2023-04-19T17:36:47.277774Z"
    }
   }
  },
  {
   "cell_type": "code",
   "execution_count": 6,
   "outputs": [
    {
     "data": {
      "text/plain": "   error_id                                       request_data _REGICAO_NOME   \n0       1.0  {'escola': '040265', 'escola_nome': 'SANTA+RIT...      INTERIOR  \\\n1       2.0  {'escola': '034265', 'escola_nome': 'HOMERO+CA...      INTERIOR   \n2       3.0  {'escola': '035269', 'escola_nome': 'SYLAS+BAL...      INTERIOR   \n3       4.0  {'escola': '904223', 'escola_nome': 'ZILDA+COM...      INTERIOR   \n4       5.0  {'escola': '911884', 'escola_nome': 'MARIA+JOS...      INTERIOR   \n\n   _ANO  _DIRETORIA_ID  _MUNICIPIO_ID  _ESCOLA_ID  _ERROR_ID  _ERROR_INFOS   \n0  2012          21101            448       40265        NaN           NaN  \\\n1  2012          21004            652       34265        NaN           NaN   \n2  2012          21101            448       35269        NaN           NaN   \n3  2012          21004            612      904223        NaN           NaN   \n4  2012          21101            448      911884        NaN           NaN   \n\n   CODIGOCIE  ... DIRETORIA MUNICIPIO SERIE IDPort IDMat IndDesemp IndFluxo   \n0        NaN  ...       NaN       NaN   NaN    NaN   NaN       NaN      NaN  \\\n1        NaN  ...       NaN       NaN   NaN    NaN   NaN       NaN      NaN   \n2        NaN  ...       NaN       NaN   NaN    NaN   NaN       NaN      NaN   \n3        NaN  ...       NaN       NaN   NaN    NaN   NaN       NaN      NaN   \n4        NaN  ...       NaN       NaN   NaN    NaN   NaN       NaN      NaN   \n\n  IDESP META ORDEM  \n0   NaN  NaN   NaN  \n1   NaN  NaN   NaN  \n2   NaN  NaN   NaN  \n3   NaN  NaN   NaN  \n4   NaN  NaN   NaN  \n\n[5 rows x 21 columns]",
      "text/html": "<div>\n<style scoped>\n    .dataframe tbody tr th:only-of-type {\n        vertical-align: middle;\n    }\n\n    .dataframe tbody tr th {\n        vertical-align: top;\n    }\n\n    .dataframe thead th {\n        text-align: right;\n    }\n</style>\n<table border=\"1\" class=\"dataframe\">\n  <thead>\n    <tr style=\"text-align: right;\">\n      <th></th>\n      <th>error_id</th>\n      <th>request_data</th>\n      <th>_REGICAO_NOME</th>\n      <th>_ANO</th>\n      <th>_DIRETORIA_ID</th>\n      <th>_MUNICIPIO_ID</th>\n      <th>_ESCOLA_ID</th>\n      <th>_ERROR_ID</th>\n      <th>_ERROR_INFOS</th>\n      <th>CODIGOCIE</th>\n      <th>...</th>\n      <th>DIRETORIA</th>\n      <th>MUNICIPIO</th>\n      <th>SERIE</th>\n      <th>IDPort</th>\n      <th>IDMat</th>\n      <th>IndDesemp</th>\n      <th>IndFluxo</th>\n      <th>IDESP</th>\n      <th>META</th>\n      <th>ORDEM</th>\n    </tr>\n  </thead>\n  <tbody>\n    <tr>\n      <th>0</th>\n      <td>1.0</td>\n      <td>{'escola': '040265', 'escola_nome': 'SANTA+RIT...</td>\n      <td>INTERIOR</td>\n      <td>2012</td>\n      <td>21101</td>\n      <td>448</td>\n      <td>40265</td>\n      <td>NaN</td>\n      <td>NaN</td>\n      <td>NaN</td>\n      <td>...</td>\n      <td>NaN</td>\n      <td>NaN</td>\n      <td>NaN</td>\n      <td>NaN</td>\n      <td>NaN</td>\n      <td>NaN</td>\n      <td>NaN</td>\n      <td>NaN</td>\n      <td>NaN</td>\n      <td>NaN</td>\n    </tr>\n    <tr>\n      <th>1</th>\n      <td>2.0</td>\n      <td>{'escola': '034265', 'escola_nome': 'HOMERO+CA...</td>\n      <td>INTERIOR</td>\n      <td>2012</td>\n      <td>21004</td>\n      <td>652</td>\n      <td>34265</td>\n      <td>NaN</td>\n      <td>NaN</td>\n      <td>NaN</td>\n      <td>...</td>\n      <td>NaN</td>\n      <td>NaN</td>\n      <td>NaN</td>\n      <td>NaN</td>\n      <td>NaN</td>\n      <td>NaN</td>\n      <td>NaN</td>\n      <td>NaN</td>\n      <td>NaN</td>\n      <td>NaN</td>\n    </tr>\n    <tr>\n      <th>2</th>\n      <td>3.0</td>\n      <td>{'escola': '035269', 'escola_nome': 'SYLAS+BAL...</td>\n      <td>INTERIOR</td>\n      <td>2012</td>\n      <td>21101</td>\n      <td>448</td>\n      <td>35269</td>\n      <td>NaN</td>\n      <td>NaN</td>\n      <td>NaN</td>\n      <td>...</td>\n      <td>NaN</td>\n      <td>NaN</td>\n      <td>NaN</td>\n      <td>NaN</td>\n      <td>NaN</td>\n      <td>NaN</td>\n      <td>NaN</td>\n      <td>NaN</td>\n      <td>NaN</td>\n      <td>NaN</td>\n    </tr>\n    <tr>\n      <th>3</th>\n      <td>4.0</td>\n      <td>{'escola': '904223', 'escola_nome': 'ZILDA+COM...</td>\n      <td>INTERIOR</td>\n      <td>2012</td>\n      <td>21004</td>\n      <td>612</td>\n      <td>904223</td>\n      <td>NaN</td>\n      <td>NaN</td>\n      <td>NaN</td>\n      <td>...</td>\n      <td>NaN</td>\n      <td>NaN</td>\n      <td>NaN</td>\n      <td>NaN</td>\n      <td>NaN</td>\n      <td>NaN</td>\n      <td>NaN</td>\n      <td>NaN</td>\n      <td>NaN</td>\n      <td>NaN</td>\n    </tr>\n    <tr>\n      <th>4</th>\n      <td>5.0</td>\n      <td>{'escola': '911884', 'escola_nome': 'MARIA+JOS...</td>\n      <td>INTERIOR</td>\n      <td>2012</td>\n      <td>21101</td>\n      <td>448</td>\n      <td>911884</td>\n      <td>NaN</td>\n      <td>NaN</td>\n      <td>NaN</td>\n      <td>...</td>\n      <td>NaN</td>\n      <td>NaN</td>\n      <td>NaN</td>\n      <td>NaN</td>\n      <td>NaN</td>\n      <td>NaN</td>\n      <td>NaN</td>\n      <td>NaN</td>\n      <td>NaN</td>\n      <td>NaN</td>\n    </tr>\n  </tbody>\n</table>\n<p>5 rows × 21 columns</p>\n</div>"
     },
     "execution_count": 6,
     "metadata": {},
     "output_type": "execute_result"
    }
   ],
   "source": [
    "df.head()"
   ],
   "metadata": {
    "collapsed": false,
    "ExecuteTime": {
     "start_time": "2023-04-19T17:36:47.276771Z",
     "end_time": "2023-04-19T17:36:47.339911Z"
    }
   }
  },
  {
   "cell_type": "code",
   "execution_count": 7,
   "outputs": [],
   "source": [
    "df_erros = df[['error_id', 'request_data']]\n",
    "df = df.drop(['error_id', 'request_data', '_ERROR_ID', '_ERROR_INFOS'], axis=1)"
   ],
   "metadata": {
    "collapsed": false,
    "ExecuteTime": {
     "start_time": "2023-04-19T17:36:47.311197Z",
     "end_time": "2023-04-19T17:36:47.370446Z"
    }
   }
  },
  {
   "cell_type": "code",
   "execution_count": 8,
   "outputs": [
    {
     "data": {
      "text/plain": "  _REGICAO_NOME  _ANO  _DIRETORIA_ID  _MUNICIPIO_ID  _ESCOLA_ID  CODIGOCIE   \n0      INTERIOR  2012          21101            448       40265        NaN  \\\n1      INTERIOR  2012          21004            652       34265        NaN   \n2      INTERIOR  2012          21101            448       35269        NaN   \n3      INTERIOR  2012          21004            612      904223        NaN   \n4      INTERIOR  2012          21101            448      911884        NaN   \n\n  ESCOLA DIRETORIA MUNICIPIO SERIE IDPort IDMat IndDesemp IndFluxo IDESP META   \n0    NaN       NaN       NaN   NaN    NaN   NaN       NaN      NaN   NaN  NaN  \\\n1    NaN       NaN       NaN   NaN    NaN   NaN       NaN      NaN   NaN  NaN   \n2    NaN       NaN       NaN   NaN    NaN   NaN       NaN      NaN   NaN  NaN   \n3    NaN       NaN       NaN   NaN    NaN   NaN       NaN      NaN   NaN  NaN   \n4    NaN       NaN       NaN   NaN    NaN   NaN       NaN      NaN   NaN  NaN   \n\n   ORDEM  \n0    NaN  \n1    NaN  \n2    NaN  \n3    NaN  \n4    NaN  ",
      "text/html": "<div>\n<style scoped>\n    .dataframe tbody tr th:only-of-type {\n        vertical-align: middle;\n    }\n\n    .dataframe tbody tr th {\n        vertical-align: top;\n    }\n\n    .dataframe thead th {\n        text-align: right;\n    }\n</style>\n<table border=\"1\" class=\"dataframe\">\n  <thead>\n    <tr style=\"text-align: right;\">\n      <th></th>\n      <th>_REGICAO_NOME</th>\n      <th>_ANO</th>\n      <th>_DIRETORIA_ID</th>\n      <th>_MUNICIPIO_ID</th>\n      <th>_ESCOLA_ID</th>\n      <th>CODIGOCIE</th>\n      <th>ESCOLA</th>\n      <th>DIRETORIA</th>\n      <th>MUNICIPIO</th>\n      <th>SERIE</th>\n      <th>IDPort</th>\n      <th>IDMat</th>\n      <th>IndDesemp</th>\n      <th>IndFluxo</th>\n      <th>IDESP</th>\n      <th>META</th>\n      <th>ORDEM</th>\n    </tr>\n  </thead>\n  <tbody>\n    <tr>\n      <th>0</th>\n      <td>INTERIOR</td>\n      <td>2012</td>\n      <td>21101</td>\n      <td>448</td>\n      <td>40265</td>\n      <td>NaN</td>\n      <td>NaN</td>\n      <td>NaN</td>\n      <td>NaN</td>\n      <td>NaN</td>\n      <td>NaN</td>\n      <td>NaN</td>\n      <td>NaN</td>\n      <td>NaN</td>\n      <td>NaN</td>\n      <td>NaN</td>\n      <td>NaN</td>\n    </tr>\n    <tr>\n      <th>1</th>\n      <td>INTERIOR</td>\n      <td>2012</td>\n      <td>21004</td>\n      <td>652</td>\n      <td>34265</td>\n      <td>NaN</td>\n      <td>NaN</td>\n      <td>NaN</td>\n      <td>NaN</td>\n      <td>NaN</td>\n      <td>NaN</td>\n      <td>NaN</td>\n      <td>NaN</td>\n      <td>NaN</td>\n      <td>NaN</td>\n      <td>NaN</td>\n      <td>NaN</td>\n    </tr>\n    <tr>\n      <th>2</th>\n      <td>INTERIOR</td>\n      <td>2012</td>\n      <td>21101</td>\n      <td>448</td>\n      <td>35269</td>\n      <td>NaN</td>\n      <td>NaN</td>\n      <td>NaN</td>\n      <td>NaN</td>\n      <td>NaN</td>\n      <td>NaN</td>\n      <td>NaN</td>\n      <td>NaN</td>\n      <td>NaN</td>\n      <td>NaN</td>\n      <td>NaN</td>\n      <td>NaN</td>\n    </tr>\n    <tr>\n      <th>3</th>\n      <td>INTERIOR</td>\n      <td>2012</td>\n      <td>21004</td>\n      <td>612</td>\n      <td>904223</td>\n      <td>NaN</td>\n      <td>NaN</td>\n      <td>NaN</td>\n      <td>NaN</td>\n      <td>NaN</td>\n      <td>NaN</td>\n      <td>NaN</td>\n      <td>NaN</td>\n      <td>NaN</td>\n      <td>NaN</td>\n      <td>NaN</td>\n      <td>NaN</td>\n    </tr>\n    <tr>\n      <th>4</th>\n      <td>INTERIOR</td>\n      <td>2012</td>\n      <td>21101</td>\n      <td>448</td>\n      <td>911884</td>\n      <td>NaN</td>\n      <td>NaN</td>\n      <td>NaN</td>\n      <td>NaN</td>\n      <td>NaN</td>\n      <td>NaN</td>\n      <td>NaN</td>\n      <td>NaN</td>\n      <td>NaN</td>\n      <td>NaN</td>\n      <td>NaN</td>\n      <td>NaN</td>\n    </tr>\n  </tbody>\n</table>\n</div>"
     },
     "execution_count": 8,
     "metadata": {},
     "output_type": "execute_result"
    }
   ],
   "source": [
    "df.head()"
   ],
   "metadata": {
    "collapsed": false,
    "ExecuteTime": {
     "start_time": "2023-04-19T17:36:47.331320Z",
     "end_time": "2023-04-19T17:36:47.370446Z"
    }
   }
  },
  {
   "cell_type": "code",
   "execution_count": 9,
   "outputs": [
    {
     "data": {
      "text/plain": "_REGICAO_NOME    0.000000\n_ANO             0.000000\n_DIRETORIA_ID    0.000000\n_MUNICIPIO_ID    0.000000\n_ESCOLA_ID       0.000000\nCODIGOCIE        0.688024\nESCOLA           0.688024\nDIRETORIA        0.688024\nMUNICIPIO        0.688024\nSERIE            0.688024\nIDPort           0.688024\nIDMat            0.688024\nIndDesemp        0.688024\nIndFluxo         0.688024\nIDESP            0.688024\nMETA             0.843213\nORDEM            0.688024\ndtype: float64"
     },
     "execution_count": 9,
     "metadata": {},
     "output_type": "execute_result"
    }
   ],
   "source": [
    "df.isna().mean()"
   ],
   "metadata": {
    "collapsed": false,
    "ExecuteTime": {
     "start_time": "2023-04-19T17:36:47.337320Z",
     "end_time": "2023-04-19T17:36:47.460461Z"
    }
   }
  },
  {
   "cell_type": "markdown",
   "source": [
    "# 68% das escolas sem dados"
   ],
   "metadata": {
    "collapsed": false
   }
  },
  {
   "cell_type": "code",
   "execution_count": 10,
   "outputs": [
    {
     "name": "stdout",
     "output_type": "stream",
     "text": [
      "<class 'pandas.core.frame.DataFrame'>\n",
      "RangeIndex: 55719 entries, 0 to 55718\n",
      "Data columns (total 17 columns):\n",
      " #   Column         Non-Null Count  Dtype  \n",
      "---  ------         --------------  -----  \n",
      " 0   _REGICAO_NOME  55719 non-null  object \n",
      " 1   _ANO           55719 non-null  int64  \n",
      " 2   _DIRETORIA_ID  55719 non-null  int64  \n",
      " 3   _MUNICIPIO_ID  55719 non-null  int64  \n",
      " 4   _ESCOLA_ID     55719 non-null  int64  \n",
      " 5   CODIGOCIE      17383 non-null  float64\n",
      " 6   ESCOLA         17383 non-null  object \n",
      " 7   DIRETORIA      17383 non-null  object \n",
      " 8   MUNICIPIO      17383 non-null  object \n",
      " 9   SERIE          17383 non-null  object \n",
      " 10  IDPort         17383 non-null  object \n",
      " 11  IDMat          17383 non-null  object \n",
      " 12  IndDesemp      17383 non-null  object \n",
      " 13  IndFluxo       17383 non-null  object \n",
      " 14  IDESP          17383 non-null  object \n",
      " 15  META           8736 non-null   object \n",
      " 16  ORDEM          17383 non-null  float64\n",
      "dtypes: float64(2), int64(4), object(11)\n",
      "memory usage: 7.2+ MB\n"
     ]
    }
   ],
   "source": [
    "df.info()"
   ],
   "metadata": {
    "collapsed": false,
    "ExecuteTime": {
     "start_time": "2023-04-19T17:36:47.376965Z",
     "end_time": "2023-04-19T17:36:47.461461Z"
    }
   }
  },
  {
   "cell_type": "code",
   "execution_count": 11,
   "outputs": [
    {
     "data": {
      "text/plain": "  _REGICAO_NOME  _ANO  _DIRETORIA_ID  _MUNICIPIO_ID  _ESCOLA_ID  CODIGOCIE   \n0      INTERIOR  2012          21101            448       40265        0.0  \\\n1      INTERIOR  2012          21004            652       34265        0.0   \n2      INTERIOR  2012          21101            448       35269        0.0   \n3      INTERIOR  2012          21004            612      904223        0.0   \n4      INTERIOR  2012          21101            448      911884        0.0   \n\n  ESCOLA DIRETORIA MUNICIPIO SERIE IDPort IDMat IndDesemp IndFluxo IDESP META   \n0      0         0         0     0      0     0         0        0     0    0  \\\n1      0         0         0     0      0     0         0        0     0    0   \n2      0         0         0     0      0     0         0        0     0    0   \n3      0         0         0     0      0     0         0        0     0    0   \n4      0         0         0     0      0     0         0        0     0    0   \n\n   ORDEM  \n0    0.0  \n1    0.0  \n2    0.0  \n3    0.0  \n4    0.0  ",
      "text/html": "<div>\n<style scoped>\n    .dataframe tbody tr th:only-of-type {\n        vertical-align: middle;\n    }\n\n    .dataframe tbody tr th {\n        vertical-align: top;\n    }\n\n    .dataframe thead th {\n        text-align: right;\n    }\n</style>\n<table border=\"1\" class=\"dataframe\">\n  <thead>\n    <tr style=\"text-align: right;\">\n      <th></th>\n      <th>_REGICAO_NOME</th>\n      <th>_ANO</th>\n      <th>_DIRETORIA_ID</th>\n      <th>_MUNICIPIO_ID</th>\n      <th>_ESCOLA_ID</th>\n      <th>CODIGOCIE</th>\n      <th>ESCOLA</th>\n      <th>DIRETORIA</th>\n      <th>MUNICIPIO</th>\n      <th>SERIE</th>\n      <th>IDPort</th>\n      <th>IDMat</th>\n      <th>IndDesemp</th>\n      <th>IndFluxo</th>\n      <th>IDESP</th>\n      <th>META</th>\n      <th>ORDEM</th>\n    </tr>\n  </thead>\n  <tbody>\n    <tr>\n      <th>0</th>\n      <td>INTERIOR</td>\n      <td>2012</td>\n      <td>21101</td>\n      <td>448</td>\n      <td>40265</td>\n      <td>0.0</td>\n      <td>0</td>\n      <td>0</td>\n      <td>0</td>\n      <td>0</td>\n      <td>0</td>\n      <td>0</td>\n      <td>0</td>\n      <td>0</td>\n      <td>0</td>\n      <td>0</td>\n      <td>0.0</td>\n    </tr>\n    <tr>\n      <th>1</th>\n      <td>INTERIOR</td>\n      <td>2012</td>\n      <td>21004</td>\n      <td>652</td>\n      <td>34265</td>\n      <td>0.0</td>\n      <td>0</td>\n      <td>0</td>\n      <td>0</td>\n      <td>0</td>\n      <td>0</td>\n      <td>0</td>\n      <td>0</td>\n      <td>0</td>\n      <td>0</td>\n      <td>0</td>\n      <td>0.0</td>\n    </tr>\n    <tr>\n      <th>2</th>\n      <td>INTERIOR</td>\n      <td>2012</td>\n      <td>21101</td>\n      <td>448</td>\n      <td>35269</td>\n      <td>0.0</td>\n      <td>0</td>\n      <td>0</td>\n      <td>0</td>\n      <td>0</td>\n      <td>0</td>\n      <td>0</td>\n      <td>0</td>\n      <td>0</td>\n      <td>0</td>\n      <td>0</td>\n      <td>0.0</td>\n    </tr>\n    <tr>\n      <th>3</th>\n      <td>INTERIOR</td>\n      <td>2012</td>\n      <td>21004</td>\n      <td>612</td>\n      <td>904223</td>\n      <td>0.0</td>\n      <td>0</td>\n      <td>0</td>\n      <td>0</td>\n      <td>0</td>\n      <td>0</td>\n      <td>0</td>\n      <td>0</td>\n      <td>0</td>\n      <td>0</td>\n      <td>0</td>\n      <td>0.0</td>\n    </tr>\n    <tr>\n      <th>4</th>\n      <td>INTERIOR</td>\n      <td>2012</td>\n      <td>21101</td>\n      <td>448</td>\n      <td>911884</td>\n      <td>0.0</td>\n      <td>0</td>\n      <td>0</td>\n      <td>0</td>\n      <td>0</td>\n      <td>0</td>\n      <td>0</td>\n      <td>0</td>\n      <td>0</td>\n      <td>0</td>\n      <td>0</td>\n      <td>0.0</td>\n    </tr>\n  </tbody>\n</table>\n</div>"
     },
     "execution_count": 11,
     "metadata": {},
     "output_type": "execute_result"
    }
   ],
   "source": [
    "# NaN Replacement\n",
    "\n",
    "df.fillna(0, inplace=True)\n",
    "df.head()"
   ],
   "metadata": {
    "collapsed": false,
    "ExecuteTime": {
     "start_time": "2023-04-19T17:36:47.406154Z",
     "end_time": "2023-04-19T17:36:47.486503Z"
    }
   }
  },
  {
   "cell_type": "code",
   "execution_count": 12,
   "outputs": [
    {
     "data": {
      "text/plain": "Index(['_REGICAO_NOME', '_ANO', '_DIRETORIA_ID', '_MUNICIPIO_ID', '_ESCOLA_ID',\n       'CODIGOCIE', 'ESCOLA', 'DIRETORIA', 'MUNICIPIO', 'SERIE', 'IDPort',\n       'IDMat', 'IndDesemp', 'IndFluxo', 'IDESP', 'META', 'ORDEM'],\n      dtype='object')"
     },
     "execution_count": 12,
     "metadata": {},
     "output_type": "execute_result"
    }
   ],
   "source": [
    "df.columns"
   ],
   "metadata": {
    "collapsed": false,
    "ExecuteTime": {
     "start_time": "2023-04-19T17:36:47.444528Z",
     "end_time": "2023-04-19T17:36:47.486503Z"
    }
   }
  },
  {
   "cell_type": "code",
   "execution_count": 13,
   "outputs": [],
   "source": [
    "# Correct columns types\n",
    "\n",
    "cl = ['IDPort', 'IDMat', 'IndDesemp', 'IndFluxo', 'IDESP', 'META']\n",
    "\n",
    "for i in cl:\n",
    "    df[i] = df[i].apply(lambda x: str(x).replace(',', '.'))\n",
    "\n",
    "df.IDMat = df['IDMat'].astype('float64')\n",
    "df.IDPort = df['IDPort'].astype('float64')\n",
    "df.IndDesemp = df['IndDesemp'].astype('float64')\n",
    "df.IndFluxo = df['IndFluxo'].astype('float64')\n",
    "df.META = df['IDMat'].astype('float64')\n"
   ],
   "metadata": {
    "collapsed": false,
    "ExecuteTime": {
     "start_time": "2023-04-19T17:36:47.451524Z",
     "end_time": "2023-04-19T17:36:47.665749Z"
    }
   }
  },
  {
   "cell_type": "code",
   "execution_count": 14,
   "outputs": [
    {
     "data": {
      "text/plain": "  _REGICAO_NOME  _ANO  _DIRETORIA_ID  _MUNICIPIO_ID  _ESCOLA_ID  CODIGOCIE   \n0      INTERIOR  2012          21101            448       40265        0.0  \\\n1      INTERIOR  2012          21004            652       34265        0.0   \n2      INTERIOR  2012          21101            448       35269        0.0   \n3      INTERIOR  2012          21004            612      904223        0.0   \n4      INTERIOR  2012          21101            448      911884        0.0   \n\n  ESCOLA DIRETORIA MUNICIPIO SERIE  IDPort  IDMat  IndDesemp  IndFluxo IDESP   \n0      0         0         0     0     0.0    0.0        0.0       0.0     0  \\\n1      0         0         0     0     0.0    0.0        0.0       0.0     0   \n2      0         0         0     0     0.0    0.0        0.0       0.0     0   \n3      0         0         0     0     0.0    0.0        0.0       0.0     0   \n4      0         0         0     0     0.0    0.0        0.0       0.0     0   \n\n   META  ORDEM  \n0   0.0    0.0  \n1   0.0    0.0  \n2   0.0    0.0  \n3   0.0    0.0  \n4   0.0    0.0  ",
      "text/html": "<div>\n<style scoped>\n    .dataframe tbody tr th:only-of-type {\n        vertical-align: middle;\n    }\n\n    .dataframe tbody tr th {\n        vertical-align: top;\n    }\n\n    .dataframe thead th {\n        text-align: right;\n    }\n</style>\n<table border=\"1\" class=\"dataframe\">\n  <thead>\n    <tr style=\"text-align: right;\">\n      <th></th>\n      <th>_REGICAO_NOME</th>\n      <th>_ANO</th>\n      <th>_DIRETORIA_ID</th>\n      <th>_MUNICIPIO_ID</th>\n      <th>_ESCOLA_ID</th>\n      <th>CODIGOCIE</th>\n      <th>ESCOLA</th>\n      <th>DIRETORIA</th>\n      <th>MUNICIPIO</th>\n      <th>SERIE</th>\n      <th>IDPort</th>\n      <th>IDMat</th>\n      <th>IndDesemp</th>\n      <th>IndFluxo</th>\n      <th>IDESP</th>\n      <th>META</th>\n      <th>ORDEM</th>\n    </tr>\n  </thead>\n  <tbody>\n    <tr>\n      <th>0</th>\n      <td>INTERIOR</td>\n      <td>2012</td>\n      <td>21101</td>\n      <td>448</td>\n      <td>40265</td>\n      <td>0.0</td>\n      <td>0</td>\n      <td>0</td>\n      <td>0</td>\n      <td>0</td>\n      <td>0.0</td>\n      <td>0.0</td>\n      <td>0.0</td>\n      <td>0.0</td>\n      <td>0</td>\n      <td>0.0</td>\n      <td>0.0</td>\n    </tr>\n    <tr>\n      <th>1</th>\n      <td>INTERIOR</td>\n      <td>2012</td>\n      <td>21004</td>\n      <td>652</td>\n      <td>34265</td>\n      <td>0.0</td>\n      <td>0</td>\n      <td>0</td>\n      <td>0</td>\n      <td>0</td>\n      <td>0.0</td>\n      <td>0.0</td>\n      <td>0.0</td>\n      <td>0.0</td>\n      <td>0</td>\n      <td>0.0</td>\n      <td>0.0</td>\n    </tr>\n    <tr>\n      <th>2</th>\n      <td>INTERIOR</td>\n      <td>2012</td>\n      <td>21101</td>\n      <td>448</td>\n      <td>35269</td>\n      <td>0.0</td>\n      <td>0</td>\n      <td>0</td>\n      <td>0</td>\n      <td>0</td>\n      <td>0.0</td>\n      <td>0.0</td>\n      <td>0.0</td>\n      <td>0.0</td>\n      <td>0</td>\n      <td>0.0</td>\n      <td>0.0</td>\n    </tr>\n    <tr>\n      <th>3</th>\n      <td>INTERIOR</td>\n      <td>2012</td>\n      <td>21004</td>\n      <td>612</td>\n      <td>904223</td>\n      <td>0.0</td>\n      <td>0</td>\n      <td>0</td>\n      <td>0</td>\n      <td>0</td>\n      <td>0.0</td>\n      <td>0.0</td>\n      <td>0.0</td>\n      <td>0.0</td>\n      <td>0</td>\n      <td>0.0</td>\n      <td>0.0</td>\n    </tr>\n    <tr>\n      <th>4</th>\n      <td>INTERIOR</td>\n      <td>2012</td>\n      <td>21101</td>\n      <td>448</td>\n      <td>911884</td>\n      <td>0.0</td>\n      <td>0</td>\n      <td>0</td>\n      <td>0</td>\n      <td>0</td>\n      <td>0.0</td>\n      <td>0.0</td>\n      <td>0.0</td>\n      <td>0.0</td>\n      <td>0</td>\n      <td>0.0</td>\n      <td>0.0</td>\n    </tr>\n  </tbody>\n</table>\n</div>"
     },
     "execution_count": 14,
     "metadata": {},
     "output_type": "execute_result"
    }
   ],
   "source": [
    "df.head()"
   ],
   "metadata": {
    "collapsed": false,
    "ExecuteTime": {
     "start_time": "2023-04-19T17:36:47.600409Z",
     "end_time": "2023-04-19T17:36:47.711636Z"
    }
   }
  },
  {
   "cell_type": "code",
   "execution_count": 99,
   "outputs": [],
   "source": [
    "df_categorical = df[['_ESCOLA_ID', 'CODIGOCIE', 'ESCOLA', '_DIRETORIA_ID', 'DIRETORIA', 'MUNICIPIO', '_REGICAO_NOME' ]]\n",
    "df_performance = df[['_ESCOLA_ID','_ANO', 'SERIE', 'IDPort', 'IDMat', 'IndDesemp', 'IndFluxo', 'IDESP', 'META']]\n",
    "# Uma escola não muda de cidade/diretoria/regiao\n",
    "\n",
    "\n"
   ],
   "metadata": {
    "collapsed": false,
    "ExecuteTime": {
     "start_time": "2023-04-19T18:52:31.158540Z",
     "end_time": "2023-04-19T18:52:31.195611Z"
    }
   }
  },
  {
   "cell_type": "markdown",
   "source": [
    "#### Nome das colunas para guardar apenas\n",
    "'_REGICAO_NOME', '_ANO', '_DIRETORIA_ID', '_MUNICIPIO_ID', '_ESCOLA_ID',\n",
    "       'CODIGOCIE', 'ESCOLA', 'DIRETORIA', 'MUNICIPIO', 'SERIE', 'IDPort',\n",
    "       'IDMat', 'IndDesemp', 'IndFluxo', 'IDESP', 'META', 'ORDEM'"
   ],
   "metadata": {
    "collapsed": false
   }
  },
  {
   "cell_type": "code",
   "execution_count": 46,
   "outputs": [
    {
     "data": {
      "text/plain": "      _ESCOLA_ID  QTD_LINES\n2898       40745         13\n3407       49086         13\n7018      903048         13\n2006       26293         13\n3163       45081         13\n...          ...        ...\n5240      245616          1\n5241      245636          1\n5242      245653          1\n5243      245707          1\n4100      207081          1\n\n[8201 rows x 2 columns]",
      "text/html": "<div>\n<style scoped>\n    .dataframe tbody tr th:only-of-type {\n        vertical-align: middle;\n    }\n\n    .dataframe tbody tr th {\n        vertical-align: top;\n    }\n\n    .dataframe thead th {\n        text-align: right;\n    }\n</style>\n<table border=\"1\" class=\"dataframe\">\n  <thead>\n    <tr style=\"text-align: right;\">\n      <th></th>\n      <th>_ESCOLA_ID</th>\n      <th>QTD_LINES</th>\n    </tr>\n  </thead>\n  <tbody>\n    <tr>\n      <th>2898</th>\n      <td>40745</td>\n      <td>13</td>\n    </tr>\n    <tr>\n      <th>3407</th>\n      <td>49086</td>\n      <td>13</td>\n    </tr>\n    <tr>\n      <th>7018</th>\n      <td>903048</td>\n      <td>13</td>\n    </tr>\n    <tr>\n      <th>2006</th>\n      <td>26293</td>\n      <td>13</td>\n    </tr>\n    <tr>\n      <th>3163</th>\n      <td>45081</td>\n      <td>13</td>\n    </tr>\n    <tr>\n      <th>...</th>\n      <td>...</td>\n      <td>...</td>\n    </tr>\n    <tr>\n      <th>5240</th>\n      <td>245616</td>\n      <td>1</td>\n    </tr>\n    <tr>\n      <th>5241</th>\n      <td>245636</td>\n      <td>1</td>\n    </tr>\n    <tr>\n      <th>5242</th>\n      <td>245653</td>\n      <td>1</td>\n    </tr>\n    <tr>\n      <th>5243</th>\n      <td>245707</td>\n      <td>1</td>\n    </tr>\n    <tr>\n      <th>4100</th>\n      <td>207081</td>\n      <td>1</td>\n    </tr>\n  </tbody>\n</table>\n<p>8201 rows × 2 columns</p>\n</div>"
     },
     "execution_count": 46,
     "metadata": {},
     "output_type": "execute_result"
    }
   ],
   "source": [
    "n_part_school = pd.DataFrame( df_categorical.groupby('_ESCOLA_ID')['ESCOLA'].count()).reset_index()\n",
    "n_part_school.rename(columns={'ESCOLA':'QTD_LINES'}, inplace=True)\n",
    "n_part_school.sort_values('QTD_LINES', ascending=False)\n",
    "\n",
    "# Maiores escolas com 13 linhas"
   ],
   "metadata": {
    "collapsed": false,
    "ExecuteTime": {
     "start_time": "2023-04-19T18:06:59.405556Z",
     "end_time": "2023-04-19T18:06:59.423533Z"
    }
   }
  },
  {
   "cell_type": "code",
   "execution_count": 60,
   "outputs": [],
   "source": [
    "df_schools = df_categorical[df_categorical.ESCOLA != 0]\n",
    "df_schools = df_schools.drop_duplicates()"
   ],
   "metadata": {
    "collapsed": false,
    "ExecuteTime": {
     "start_time": "2023-04-19T18:12:59.435569Z",
     "end_time": "2023-04-19T18:12:59.451282Z"
    }
   }
  },
  {
   "cell_type": "code",
   "execution_count": 67,
   "outputs": [
    {
     "data": {
      "text/plain": "      _ESCOLA_ID  CODIGOCIE                                   ESCOLA   \n1414       16937    16937.0                PEREIRA INACIO COMENDADOR  \\\n1416       31690    31690.0   SERAPHINA ETELVINA PAGLIUSO PROFESSORA   \n1417       37898    37898.0               FELIX GUISARD FILHO DOUTOR   \n1418       45548    45548.0  ELYSABETH DE MELLO RODRIGUES PROFESSORA   \n1420       42547    42547.0        ZORAIDE PROENCA KAYSEL PROFESSORA   \n\n      _DIRETORIA_ID   DIRETORIA   MUNICIPIO _REGICAO_NOME  \n1414          20310  VOTORANTIM  VOTORANTIM      INTERIOR  \n1416          21006        TUPA   RINOPOLIS      INTERIOR  \n1417          20206     TAUBATE     TAUBATE      INTERIOR  \n1418          20415      SUMARE      SUMARE      INTERIOR  \n1420          20415      SUMARE      SUMARE      INTERIOR  ",
      "text/html": "<div>\n<style scoped>\n    .dataframe tbody tr th:only-of-type {\n        vertical-align: middle;\n    }\n\n    .dataframe tbody tr th {\n        vertical-align: top;\n    }\n\n    .dataframe thead th {\n        text-align: right;\n    }\n</style>\n<table border=\"1\" class=\"dataframe\">\n  <thead>\n    <tr style=\"text-align: right;\">\n      <th></th>\n      <th>_ESCOLA_ID</th>\n      <th>CODIGOCIE</th>\n      <th>ESCOLA</th>\n      <th>_DIRETORIA_ID</th>\n      <th>DIRETORIA</th>\n      <th>MUNICIPIO</th>\n      <th>_REGICAO_NOME</th>\n    </tr>\n  </thead>\n  <tbody>\n    <tr>\n      <th>1414</th>\n      <td>16937</td>\n      <td>16937.0</td>\n      <td>PEREIRA INACIO COMENDADOR</td>\n      <td>20310</td>\n      <td>VOTORANTIM</td>\n      <td>VOTORANTIM</td>\n      <td>INTERIOR</td>\n    </tr>\n    <tr>\n      <th>1416</th>\n      <td>31690</td>\n      <td>31690.0</td>\n      <td>SERAPHINA ETELVINA PAGLIUSO PROFESSORA</td>\n      <td>21006</td>\n      <td>TUPA</td>\n      <td>RINOPOLIS</td>\n      <td>INTERIOR</td>\n    </tr>\n    <tr>\n      <th>1417</th>\n      <td>37898</td>\n      <td>37898.0</td>\n      <td>FELIX GUISARD FILHO DOUTOR</td>\n      <td>20206</td>\n      <td>TAUBATE</td>\n      <td>TAUBATE</td>\n      <td>INTERIOR</td>\n    </tr>\n    <tr>\n      <th>1418</th>\n      <td>45548</td>\n      <td>45548.0</td>\n      <td>ELYSABETH DE MELLO RODRIGUES PROFESSORA</td>\n      <td>20415</td>\n      <td>SUMARE</td>\n      <td>SUMARE</td>\n      <td>INTERIOR</td>\n    </tr>\n    <tr>\n      <th>1420</th>\n      <td>42547</td>\n      <td>42547.0</td>\n      <td>ZORAIDE PROENCA KAYSEL PROFESSORA</td>\n      <td>20415</td>\n      <td>SUMARE</td>\n      <td>SUMARE</td>\n      <td>INTERIOR</td>\n    </tr>\n  </tbody>\n</table>\n</div>"
     },
     "execution_count": 67,
     "metadata": {},
     "output_type": "execute_result"
    }
   ],
   "source": [
    "df_schools.head()"
   ],
   "metadata": {
    "collapsed": false,
    "ExecuteTime": {
     "start_time": "2023-04-19T18:30:12.915217Z",
     "end_time": "2023-04-19T18:30:12.948641Z"
    }
   }
  },
  {
   "cell_type": "code",
   "execution_count": 75,
   "outputs": [],
   "source": [
    "df_schools = df_schools.merge(n_part_school, how='left', on='_ESCOLA_ID')"
   ],
   "metadata": {
    "collapsed": false,
    "ExecuteTime": {
     "start_time": "2023-04-19T18:37:24.204858Z",
     "end_time": "2023-04-19T18:37:24.219886Z"
    }
   }
  },
  {
   "cell_type": "code",
   "execution_count": 89,
   "outputs": [
    {
     "ename": "TypeError",
     "evalue": "'Text' object is not callable",
     "output_type": "error",
     "traceback": [
      "\u001B[0;31m---------------------------------------------------------------------------\u001B[0m",
      "\u001B[0;31mTypeError\u001B[0m                                 Traceback (most recent call last)",
      "Cell \u001B[0;32mIn[89], line 11\u001B[0m\n\u001B[1;32m      4\u001B[0m ax \u001B[38;5;241m=\u001B[39m sns\u001B[38;5;241m.\u001B[39mbarplot(\n\u001B[1;32m      5\u001B[0m     data\u001B[38;5;241m=\u001B[39md1,\n\u001B[1;32m      6\u001B[0m     x\u001B[38;5;241m=\u001B[39m\u001B[38;5;124m\"\u001B[39m\u001B[38;5;124m_REGICAO_NOME\u001B[39m\u001B[38;5;124m\"\u001B[39m,\n\u001B[1;32m      7\u001B[0m     y\u001B[38;5;241m=\u001B[39m\u001B[38;5;124m\"\u001B[39m\u001B[38;5;124mQTD_LINES\u001B[39m\u001B[38;5;124m\"\u001B[39m,\n\u001B[1;32m      8\u001B[0m )\n\u001B[1;32m     10\u001B[0m ax\u001B[38;5;241m.\u001B[39mbar_label(ax\u001B[38;5;241m.\u001B[39mcontainers[\u001B[38;5;241m0\u001B[39m], padding\u001B[38;5;241m=\u001B[39m\u001B[38;5;241m-\u001B[39m\u001B[38;5;241m30\u001B[39m, fontsize\u001B[38;5;241m=\u001B[39m\u001B[38;5;241m18\u001B[39m)\n\u001B[0;32m---> 11\u001B[0m \u001B[43max\u001B[49m\u001B[38;5;241;43m.\u001B[39;49m\u001B[43mtitle\u001B[49m\u001B[43m(\u001B[49m\u001B[38;5;124;43m'\u001B[39;49m\u001B[38;5;124;43mOLA\u001B[39;49m\u001B[38;5;124;43m'\u001B[39;49m\u001B[43m)\u001B[49m\n",
      "\u001B[0;31mTypeError\u001B[0m: 'Text' object is not callable"
     ]
    },
    {
     "data": {
      "text/plain": "<Figure size 640x480 with 1 Axes>",
      "image/png": "[encoded data removed]"
     },
     "metadata": {},
     "output_type": "display_data"
    }
   ],
   "source": [
    "sns.set_theme()\n",
    "d1 = df_schools.groupby('_REGICAO_NOME').count().reset_index()\n",
    "# Create a visualization\n",
    "ax = sns.barplot(\n",
    "    data=d1,\n",
    "    x=\"_REGICAO_NOME\",\n",
    "    y=\"QTD_LINES\",\n",
    ")\n",
    "\n",
    "ax.bar_label(ax.containers[0], padding=-30, fontsize=18)\n"
   ],
   "metadata": {
    "collapsed": false,
    "ExecuteTime": {
     "start_time": "2023-04-19T18:46:33.393332Z",
     "end_time": "2023-04-19T18:46:33.565877Z"
    }
   }
  },
  {
   "cell_type": "code",
   "execution_count": 100,
   "outputs": [
    {
     "data": {
      "text/plain": "   _ESCOLA_ID  _ANO SERIE  IDPort  IDMat  IndDesemp  IndFluxo IDESP  META\n0       40265  2012     0     0.0    0.0        0.0       0.0     0   0.0\n1       34265  2012     0     0.0    0.0        0.0       0.0     0   0.0\n2       35269  2012     0     0.0    0.0        0.0       0.0     0   0.0\n3      904223  2012     0     0.0    0.0        0.0       0.0     0   0.0\n4      911884  2012     0     0.0    0.0        0.0       0.0     0   0.0",
      "text/html": "<div>\n<style scoped>\n    .dataframe tbody tr th:only-of-type {\n        vertical-align: middle;\n    }\n\n    .dataframe tbody tr th {\n        vertical-align: top;\n    }\n\n    .dataframe thead th {\n        text-align: right;\n    }\n</style>\n<table border=\"1\" class=\"dataframe\">\n  <thead>\n    <tr style=\"text-align: right;\">\n      <th></th>\n      <th>_ESCOLA_ID</th>\n      <th>_ANO</th>\n      <th>SERIE</th>\n      <th>IDPort</th>\n      <th>IDMat</th>\n      <th>IndDesemp</th>\n      <th>IndFluxo</th>\n      <th>IDESP</th>\n      <th>META</th>\n    </tr>\n  </thead>\n  <tbody>\n    <tr>\n      <th>0</th>\n      <td>40265</td>\n      <td>2012</td>\n      <td>0</td>\n      <td>0.0</td>\n      <td>0.0</td>\n      <td>0.0</td>\n      <td>0.0</td>\n      <td>0</td>\n      <td>0.0</td>\n    </tr>\n    <tr>\n      <th>1</th>\n      <td>34265</td>\n      <td>2012</td>\n      <td>0</td>\n      <td>0.0</td>\n      <td>0.0</td>\n      <td>0.0</td>\n      <td>0.0</td>\n      <td>0</td>\n      <td>0.0</td>\n    </tr>\n    <tr>\n      <th>2</th>\n      <td>35269</td>\n      <td>2012</td>\n      <td>0</td>\n      <td>0.0</td>\n      <td>0.0</td>\n      <td>0.0</td>\n      <td>0.0</td>\n      <td>0</td>\n      <td>0.0</td>\n    </tr>\n    <tr>\n      <th>3</th>\n      <td>904223</td>\n      <td>2012</td>\n      <td>0</td>\n      <td>0.0</td>\n      <td>0.0</td>\n      <td>0.0</td>\n      <td>0.0</td>\n      <td>0</td>\n      <td>0.0</td>\n    </tr>\n    <tr>\n      <th>4</th>\n      <td>911884</td>\n      <td>2012</td>\n      <td>0</td>\n      <td>0.0</td>\n      <td>0.0</td>\n      <td>0.0</td>\n      <td>0.0</td>\n      <td>0</td>\n      <td>0.0</td>\n    </tr>\n  </tbody>\n</table>\n</div>"
     },
     "execution_count": 100,
     "metadata": {},
     "output_type": "execute_result"
    }
   ],
   "source": [
    "df_performance.head()"
   ],
   "metadata": {
    "collapsed": false,
    "ExecuteTime": {
     "start_time": "2023-04-19T18:52:39.217475Z",
     "end_time": "2023-04-19T18:52:39.318164Z"
    }
   }
  },
  {
   "cell_type": "code",
   "execution_count": 101,
   "outputs": [
    {
     "name": "stdout",
     "output_type": "stream",
     "text": [
      "<class 'pandas.core.frame.DataFrame'>\n",
      "RangeIndex: 55719 entries, 0 to 55718\n",
      "Data columns (total 9 columns):\n",
      " #   Column      Non-Null Count  Dtype  \n",
      "---  ------      --------------  -----  \n",
      " 0   _ESCOLA_ID  55719 non-null  int64  \n",
      " 1   _ANO        55719 non-null  int64  \n",
      " 2   SERIE       55719 non-null  object \n",
      " 3   IDPort      55719 non-null  float64\n",
      " 4   IDMat       55719 non-null  float64\n",
      " 5   IndDesemp   55719 non-null  float64\n",
      " 6   IndFluxo    55719 non-null  float64\n",
      " 7   IDESP       55719 non-null  object \n",
      " 8   META        55719 non-null  float64\n",
      "dtypes: float64(5), int64(2), object(2)\n",
      "memory usage: 3.8+ MB\n"
     ]
    }
   ],
   "source": [
    "df_performance.info()"
   ],
   "metadata": {
    "collapsed": false,
    "ExecuteTime": {
     "start_time": "2023-04-19T18:52:39.423884Z",
     "end_time": "2023-04-19T18:52:39.477014Z"
    }
   }
  },
  {
   "cell_type": "code",
   "execution_count": 102,
   "outputs": [
    {
     "data": {
      "text/plain": "       _ESCOLA_ID  _ANO      SERIE  IDPort   IDMat  IndDesemp  IndFluxo IDESP   \n5468        14400  2019  3º ANO EM  3.7443  1.7587       2.75    0.9294  2.56  \\\n50118       28800  2013          0  0.0000  0.0000       0.00    0.0000     0   \n10998       32347  2021  5º ANO EF  4.4440  6.2957       5.37    1.0000  5.37   \n2484       914997  2021  3º ANO EM  2.9930  1.3613       2.18    1.0000  2.18   \n4678        34459  2019  9º ANO EF  3.7963  3.6107       3.70    0.9694  3.59   \n50532      924556  2013          0  0.0000  0.0000       0.00    0.0000     0   \n54331      127814  2012          0  0.0000  0.0000       0.00    0.0000     0   \n20635      191243  2018          0  0.0000  0.0000       0.00    0.0000     0   \n2401       919731  2021  5º ANO EF  6.4053  5.2287       5.82    1.0000  5.82   \n34897       32839  2014          0  0.0000  0.0000       0.00    0.0000     0   \n1679       900515  2021  9º ANO EF  4.0503  3.0523       3.55    0.9977  3.54   \n20858      917000  2018          0  0.0000  0.0000       0.00    0.0000     0   \n1715       903280  2021  9º ANO EF  5.0473  4.5717       4.81    1.0000  4.81   \n25469       19719  2018          0  0.0000  0.0000       0.00    0.0000     0   \n33222       24659  2015          0  0.0000  0.0000       0.00    0.0000     0   \n137         42006  2015          0  0.0000  0.0000       0.00    0.0000     0   \n44658       32645  2014          0  0.0000  0.0000       0.00    0.0000     0   \n12502      911252  2021  9º ANO EF  4.1733  3.4810       3.83    1.0000  3.83   \n37854       37710  2014          0  0.0000  0.0000       0.00    0.0000     0   \n28302       15714  2017          0  0.0000  0.0000       0.00    0.0000     0   \n53818       15921  2012          0  0.0000  0.0000       0.00    0.0000     0   \n12020       30363  2021  3º ANO EM  3.2800  1.8817       2.58    1.0000  2.58   \n916         37898  2013          0  0.0000  0.0000       0.00    0.0000     0   \n10586      925068  2021  3º ANO EM  1.4293  0.8333       1.13    1.0000  1.13   \n25191      900163  2017          0  0.0000  0.0000       0.00    0.0000     0   \n6254        23954  2018          0  0.0000  0.0000       0.00    0.0000     0   \n37477        2773  2014          0  0.0000  0.0000       0.00    0.0000     0   \n36482      910880  2015          0  0.0000  0.0000       0.00    0.0000     0   \n6480        70282  2017          0  0.0000  0.0000       0.00    0.0000     0   \n47479      902007  2013          0  0.0000  0.0000       0.00    0.0000     0   \n\n         META  \n5468   1.7587  \n50118  0.0000  \n10998  6.2957  \n2484   1.3613  \n4678   3.6107  \n50532  0.0000  \n54331  0.0000  \n20635  0.0000  \n2401   5.2287  \n34897  0.0000  \n1679   3.0523  \n20858  0.0000  \n1715   4.5717  \n25469  0.0000  \n33222  0.0000  \n137    0.0000  \n44658  0.0000  \n12502  3.4810  \n37854  0.0000  \n28302  0.0000  \n53818  0.0000  \n12020  1.8817  \n916    0.0000  \n10586  0.8333  \n25191  0.0000  \n6254   0.0000  \n37477  0.0000  \n36482  0.0000  \n6480   0.0000  \n47479  0.0000  ",
      "text/html": "<div>\n<style scoped>\n    .dataframe tbody tr th:only-of-type {\n        vertical-align: middle;\n    }\n\n    .dataframe tbody tr th {\n        vertical-align: top;\n    }\n\n    .dataframe thead th {\n        text-align: right;\n    }\n</style>\n<table border=\"1\" class=\"dataframe\">\n  <thead>\n    <tr style=\"text-align: right;\">\n      <th></th>\n      <th>_ESCOLA_ID</th>\n      <th>_ANO</th>\n      <th>SERIE</th>\n      <th>IDPort</th>\n      <th>IDMat</th>\n      <th>IndDesemp</th>\n      <th>IndFluxo</th>\n      <th>IDESP</th>\n      <th>META</th>\n    </tr>\n  </thead>\n  <tbody>\n    <tr>\n      <th>5468</th>\n      <td>14400</td>\n      <td>2019</td>\n      <td>3º ANO EM</td>\n      <td>3.7443</td>\n      <td>1.7587</td>\n      <td>2.75</td>\n      <td>0.9294</td>\n      <td>2.56</td>\n      <td>1.7587</td>\n    </tr>\n    <tr>\n      <th>50118</th>\n      <td>28800</td>\n      <td>2013</td>\n      <td>0</td>\n      <td>0.0000</td>\n      <td>0.0000</td>\n      <td>0.00</td>\n      <td>0.0000</td>\n      <td>0</td>\n      <td>0.0000</td>\n    </tr>\n    <tr>\n      <th>10998</th>\n      <td>32347</td>\n      <td>2021</td>\n      <td>5º ANO EF</td>\n      <td>4.4440</td>\n      <td>6.2957</td>\n      <td>5.37</td>\n      <td>1.0000</td>\n      <td>5.37</td>\n      <td>6.2957</td>\n    </tr>\n    <tr>\n      <th>2484</th>\n      <td>914997</td>\n      <td>2021</td>\n      <td>3º ANO EM</td>\n      <td>2.9930</td>\n      <td>1.3613</td>\n      <td>2.18</td>\n      <td>1.0000</td>\n      <td>2.18</td>\n      <td>1.3613</td>\n    </tr>\n    <tr>\n      <th>4678</th>\n      <td>34459</td>\n      <td>2019</td>\n      <td>9º ANO EF</td>\n      <td>3.7963</td>\n      <td>3.6107</td>\n      <td>3.70</td>\n      <td>0.9694</td>\n      <td>3.59</td>\n      <td>3.6107</td>\n    </tr>\n    <tr>\n      <th>50532</th>\n      <td>924556</td>\n      <td>2013</td>\n      <td>0</td>\n      <td>0.0000</td>\n      <td>0.0000</td>\n      <td>0.00</td>\n      <td>0.0000</td>\n      <td>0</td>\n      <td>0.0000</td>\n    </tr>\n    <tr>\n      <th>54331</th>\n      <td>127814</td>\n      <td>2012</td>\n      <td>0</td>\n      <td>0.0000</td>\n      <td>0.0000</td>\n      <td>0.00</td>\n      <td>0.0000</td>\n      <td>0</td>\n      <td>0.0000</td>\n    </tr>\n    <tr>\n      <th>20635</th>\n      <td>191243</td>\n      <td>2018</td>\n      <td>0</td>\n      <td>0.0000</td>\n      <td>0.0000</td>\n      <td>0.00</td>\n      <td>0.0000</td>\n      <td>0</td>\n      <td>0.0000</td>\n    </tr>\n    <tr>\n      <th>2401</th>\n      <td>919731</td>\n      <td>2021</td>\n      <td>5º ANO EF</td>\n      <td>6.4053</td>\n      <td>5.2287</td>\n      <td>5.82</td>\n      <td>1.0000</td>\n      <td>5.82</td>\n      <td>5.2287</td>\n    </tr>\n    <tr>\n      <th>34897</th>\n      <td>32839</td>\n      <td>2014</td>\n      <td>0</td>\n      <td>0.0000</td>\n      <td>0.0000</td>\n      <td>0.00</td>\n      <td>0.0000</td>\n      <td>0</td>\n      <td>0.0000</td>\n    </tr>\n    <tr>\n      <th>1679</th>\n      <td>900515</td>\n      <td>2021</td>\n      <td>9º ANO EF</td>\n      <td>4.0503</td>\n      <td>3.0523</td>\n      <td>3.55</td>\n      <td>0.9977</td>\n      <td>3.54</td>\n      <td>3.0523</td>\n    </tr>\n    <tr>\n      <th>20858</th>\n      <td>917000</td>\n      <td>2018</td>\n      <td>0</td>\n      <td>0.0000</td>\n      <td>0.0000</td>\n      <td>0.00</td>\n      <td>0.0000</td>\n      <td>0</td>\n      <td>0.0000</td>\n    </tr>\n    <tr>\n      <th>1715</th>\n      <td>903280</td>\n      <td>2021</td>\n      <td>9º ANO EF</td>\n      <td>5.0473</td>\n      <td>4.5717</td>\n      <td>4.81</td>\n      <td>1.0000</td>\n      <td>4.81</td>\n      <td>4.5717</td>\n    </tr>\n    <tr>\n      <th>25469</th>\n      <td>19719</td>\n      <td>2018</td>\n      <td>0</td>\n      <td>0.0000</td>\n      <td>0.0000</td>\n      <td>0.00</td>\n      <td>0.0000</td>\n      <td>0</td>\n      <td>0.0000</td>\n    </tr>\n    <tr>\n      <th>33222</th>\n      <td>24659</td>\n      <td>2015</td>\n      <td>0</td>\n      <td>0.0000</td>\n      <td>0.0000</td>\n      <td>0.00</td>\n      <td>0.0000</td>\n      <td>0</td>\n      <td>0.0000</td>\n    </tr>\n    <tr>\n      <th>137</th>\n      <td>42006</td>\n      <td>2015</td>\n      <td>0</td>\n      <td>0.0000</td>\n      <td>0.0000</td>\n      <td>0.00</td>\n      <td>0.0000</td>\n      <td>0</td>\n      <td>0.0000</td>\n    </tr>\n    <tr>\n      <th>44658</th>\n      <td>32645</td>\n      <td>2014</td>\n      <td>0</td>\n      <td>0.0000</td>\n      <td>0.0000</td>\n      <td>0.00</td>\n      <td>0.0000</td>\n      <td>0</td>\n      <td>0.0000</td>\n    </tr>\n    <tr>\n      <th>12502</th>\n      <td>911252</td>\n      <td>2021</td>\n      <td>9º ANO EF</td>\n      <td>4.1733</td>\n      <td>3.4810</td>\n      <td>3.83</td>\n      <td>1.0000</td>\n      <td>3.83</td>\n      <td>3.4810</td>\n    </tr>\n    <tr>\n      <th>37854</th>\n      <td>37710</td>\n      <td>2014</td>\n      <td>0</td>\n      <td>0.0000</td>\n      <td>0.0000</td>\n      <td>0.00</td>\n      <td>0.0000</td>\n      <td>0</td>\n      <td>0.0000</td>\n    </tr>\n    <tr>\n      <th>28302</th>\n      <td>15714</td>\n      <td>2017</td>\n      <td>0</td>\n      <td>0.0000</td>\n      <td>0.0000</td>\n      <td>0.00</td>\n      <td>0.0000</td>\n      <td>0</td>\n      <td>0.0000</td>\n    </tr>\n    <tr>\n      <th>53818</th>\n      <td>15921</td>\n      <td>2012</td>\n      <td>0</td>\n      <td>0.0000</td>\n      <td>0.0000</td>\n      <td>0.00</td>\n      <td>0.0000</td>\n      <td>0</td>\n      <td>0.0000</td>\n    </tr>\n    <tr>\n      <th>12020</th>\n      <td>30363</td>\n      <td>2021</td>\n      <td>3º ANO EM</td>\n      <td>3.2800</td>\n      <td>1.8817</td>\n      <td>2.58</td>\n      <td>1.0000</td>\n      <td>2.58</td>\n      <td>1.8817</td>\n    </tr>\n    <tr>\n      <th>916</th>\n      <td>37898</td>\n      <td>2013</td>\n      <td>0</td>\n      <td>0.0000</td>\n      <td>0.0000</td>\n      <td>0.00</td>\n      <td>0.0000</td>\n      <td>0</td>\n      <td>0.0000</td>\n    </tr>\n    <tr>\n      <th>10586</th>\n      <td>925068</td>\n      <td>2021</td>\n      <td>3º ANO EM</td>\n      <td>1.4293</td>\n      <td>0.8333</td>\n      <td>1.13</td>\n      <td>1.0000</td>\n      <td>1.13</td>\n      <td>0.8333</td>\n    </tr>\n    <tr>\n      <th>25191</th>\n      <td>900163</td>\n      <td>2017</td>\n      <td>0</td>\n      <td>0.0000</td>\n      <td>0.0000</td>\n      <td>0.00</td>\n      <td>0.0000</td>\n      <td>0</td>\n      <td>0.0000</td>\n    </tr>\n    <tr>\n      <th>6254</th>\n      <td>23954</td>\n      <td>2018</td>\n      <td>0</td>\n      <td>0.0000</td>\n      <td>0.0000</td>\n      <td>0.00</td>\n      <td>0.0000</td>\n      <td>0</td>\n      <td>0.0000</td>\n    </tr>\n    <tr>\n      <th>37477</th>\n      <td>2773</td>\n      <td>2014</td>\n      <td>0</td>\n      <td>0.0000</td>\n      <td>0.0000</td>\n      <td>0.00</td>\n      <td>0.0000</td>\n      <td>0</td>\n      <td>0.0000</td>\n    </tr>\n    <tr>\n      <th>36482</th>\n      <td>910880</td>\n      <td>2015</td>\n      <td>0</td>\n      <td>0.0000</td>\n      <td>0.0000</td>\n      <td>0.00</td>\n      <td>0.0000</td>\n      <td>0</td>\n      <td>0.0000</td>\n    </tr>\n    <tr>\n      <th>6480</th>\n      <td>70282</td>\n      <td>2017</td>\n      <td>0</td>\n      <td>0.0000</td>\n      <td>0.0000</td>\n      <td>0.00</td>\n      <td>0.0000</td>\n      <td>0</td>\n      <td>0.0000</td>\n    </tr>\n    <tr>\n      <th>47479</th>\n      <td>902007</td>\n      <td>2013</td>\n      <td>0</td>\n      <td>0.0000</td>\n      <td>0.0000</td>\n      <td>0.00</td>\n      <td>0.0000</td>\n      <td>0</td>\n      <td>0.0000</td>\n    </tr>\n  </tbody>\n</table>\n</div>"
     },
     "execution_count": 102,
     "metadata": {},
     "output_type": "execute_result"
    }
   ],
   "source": [
    "df_performance.sample(30)"
   ],
   "metadata": {
    "collapsed": false,
    "ExecuteTime": {
     "start_time": "2023-04-19T18:52:39.589353Z",
     "end_time": "2023-04-19T18:52:39.610909Z"
    }
   }
  },
  {
   "cell_type": "code",
   "execution_count": 103,
   "outputs": [
    {
     "name": "stderr",
     "output_type": "stream",
     "text": [
      "/tmp/ipykernel_4662/3493498453.py:1: SettingWithCopyWarning: \n",
      "A value is trying to be set on a copy of a slice from a DataFrame.\n",
      "Try using .loc[row_indexer,col_indexer] = value instead\n",
      "\n",
      "See the caveats in the documentation: https://pandas.pydata.org/pandas-docs/stable/user_guide/indexing.html#returning-a-view-versus-a-copy\n",
      "  df_performance['IDESP'] = df_performance['IDESP'].astype('float64')\n"
     ]
    }
   ],
   "source": [
    "df_performance['IDESP'] = df_performance['IDESP'].astype('float64')"
   ],
   "metadata": {
    "collapsed": false,
    "ExecuteTime": {
     "start_time": "2023-04-19T18:52:39.786583Z",
     "end_time": "2023-04-19T18:52:39.838777Z"
    }
   }
  },
  {
   "cell_type": "code",
   "execution_count": 104,
   "outputs": [
    {
     "name": "stdout",
     "output_type": "stream",
     "text": [
      "<class 'pandas.core.frame.DataFrame'>\n",
      "RangeIndex: 55719 entries, 0 to 55718\n",
      "Data columns (total 9 columns):\n",
      " #   Column      Non-Null Count  Dtype  \n",
      "---  ------      --------------  -----  \n",
      " 0   _ESCOLA_ID  55719 non-null  int64  \n",
      " 1   _ANO        55719 non-null  int64  \n",
      " 2   SERIE       55719 non-null  object \n",
      " 3   IDPort      55719 non-null  float64\n",
      " 4   IDMat       55719 non-null  float64\n",
      " 5   IndDesemp   55719 non-null  float64\n",
      " 6   IndFluxo    55719 non-null  float64\n",
      " 7   IDESP       55719 non-null  float64\n",
      " 8   META        55719 non-null  float64\n",
      "dtypes: float64(6), int64(2), object(1)\n",
      "memory usage: 3.8+ MB\n"
     ]
    }
   ],
   "source": [
    "df_performance.info()"
   ],
   "metadata": {
    "collapsed": false,
    "ExecuteTime": {
     "start_time": "2023-04-19T18:52:40.806324Z",
     "end_time": "2023-04-19T18:52:40.862579Z"
    }
   }
  },
  {
   "cell_type": "code",
   "execution_count": 105,
   "outputs": [
    {
     "data": {
      "text/plain": "          _ESCOLA_ID          _ANO        IDPort         IDMat     IndDesemp   \ncount   55719.000000  55719.000000  55719.000000  55719.000000  55719.000000  \\\nmean   278154.104794   2016.510885      1.169470      0.862789      1.016158   \nstd    382823.911015      2.897123      1.861412      1.500661      1.666522   \nmin        12.000000   2012.000000      0.000000      0.000000      0.000000   \n25%     17243.000000   2014.000000      0.000000      0.000000      0.000000   \n50%     37722.000000   2016.000000      0.000000      0.000000      0.000000   \n75%    900357.000000   2019.000000      2.800000      1.538700      2.210000   \nmax    926103.000000   2021.000000      9.166700     10.000000      9.580000   \n\n           IndFluxo         IDESP          META  \ncount  55719.000000  55719.000000  55719.000000  \nmean       0.301271      0.986888      0.862789  \nstd        0.448417      1.633142      1.500661  \nmin        0.000000      0.000000      0.000000  \n25%        0.000000      0.000000      0.000000  \n50%        0.000000      0.000000      0.000000  \n75%        0.940200      2.080000      1.538700  \nmax        1.000000      9.580000     10.000000  ",
      "text/html": "<div>\n<style scoped>\n    .dataframe tbody tr th:only-of-type {\n        vertical-align: middle;\n    }\n\n    .dataframe tbody tr th {\n        vertical-align: top;\n    }\n\n    .dataframe thead th {\n        text-align: right;\n    }\n</style>\n<table border=\"1\" class=\"dataframe\">\n  <thead>\n    <tr style=\"text-align: right;\">\n      <th></th>\n      <th>_ESCOLA_ID</th>\n      <th>_ANO</th>\n      <th>IDPort</th>\n      <th>IDMat</th>\n      <th>IndDesemp</th>\n      <th>IndFluxo</th>\n      <th>IDESP</th>\n      <th>META</th>\n    </tr>\n  </thead>\n  <tbody>\n    <tr>\n      <th>count</th>\n      <td>55719.000000</td>\n      <td>55719.000000</td>\n      <td>55719.000000</td>\n      <td>55719.000000</td>\n      <td>55719.000000</td>\n      <td>55719.000000</td>\n      <td>55719.000000</td>\n      <td>55719.000000</td>\n    </tr>\n    <tr>\n      <th>mean</th>\n      <td>278154.104794</td>\n      <td>2016.510885</td>\n      <td>1.169470</td>\n      <td>0.862789</td>\n      <td>1.016158</td>\n      <td>0.301271</td>\n      <td>0.986888</td>\n      <td>0.862789</td>\n    </tr>\n    <tr>\n      <th>std</th>\n      <td>382823.911015</td>\n      <td>2.897123</td>\n      <td>1.861412</td>\n      <td>1.500661</td>\n      <td>1.666522</td>\n      <td>0.448417</td>\n      <td>1.633142</td>\n      <td>1.500661</td>\n    </tr>\n    <tr>\n      <th>min</th>\n      <td>12.000000</td>\n      <td>2012.000000</td>\n      <td>0.000000</td>\n      <td>0.000000</td>\n      <td>0.000000</td>\n      <td>0.000000</td>\n      <td>0.000000</td>\n      <td>0.000000</td>\n    </tr>\n    <tr>\n      <th>25%</th>\n      <td>17243.000000</td>\n      <td>2014.000000</td>\n      <td>0.000000</td>\n      <td>0.000000</td>\n      <td>0.000000</td>\n      <td>0.000000</td>\n      <td>0.000000</td>\n      <td>0.000000</td>\n    </tr>\n    <tr>\n      <th>50%</th>\n      <td>37722.000000</td>\n      <td>2016.000000</td>\n      <td>0.000000</td>\n      <td>0.000000</td>\n      <td>0.000000</td>\n      <td>0.000000</td>\n      <td>0.000000</td>\n      <td>0.000000</td>\n    </tr>\n    <tr>\n      <th>75%</th>\n      <td>900357.000000</td>\n      <td>2019.000000</td>\n      <td>2.800000</td>\n      <td>1.538700</td>\n      <td>2.210000</td>\n      <td>0.940200</td>\n      <td>2.080000</td>\n      <td>1.538700</td>\n    </tr>\n    <tr>\n      <th>max</th>\n      <td>926103.000000</td>\n      <td>2021.000000</td>\n      <td>9.166700</td>\n      <td>10.000000</td>\n      <td>9.580000</td>\n      <td>1.000000</td>\n      <td>9.580000</td>\n      <td>10.000000</td>\n    </tr>\n  </tbody>\n</table>\n</div>"
     },
     "execution_count": 105,
     "metadata": {},
     "output_type": "execute_result"
    }
   ],
   "source": [
    "df_performance.describe()"
   ],
   "metadata": {
    "collapsed": false,
    "ExecuteTime": {
     "start_time": "2023-04-19T18:59:11.284043Z",
     "end_time": "2023-04-19T18:59:11.344672Z"
    }
   }
  },
  {
   "cell_type": "code",
   "execution_count": null,
   "outputs": [],
   "source": [],
   "metadata": {
    "collapsed": false
   }
  }
 ],
 "metadata": {
  "kernelspec": {
   "display_name": "Python 3",
   "language": "python",
   "name": "python3"
  },
  "language_info": {
   "codemirror_mode": {
    "name": "ipython",
    "version": 2
   },
   "file_extension": ".py",
   "mimetype": "text/x-python",
   "name": "python",
   "nbconvert_exporter": "python",
   "pygments_lexer": "ipython2",
   "version": "2.7.6"
  }
 },
 "nbformat": 4,
 "nbformat_minor": 0
}
