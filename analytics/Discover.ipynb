{
 "cells": [
  {
   "cell_type": "code",
   "execution_count": 1,
   "metadata": {
    "collapsed": true,
    "ExecuteTime": {
     "start_time": "2023-04-18T22:42:44.165856Z",
     "end_time": "2023-04-18T22:42:44.307709Z"
    }
   },
   "outputs": [],
   "source": [
    "import pandas as pd\n",
    "import sqlalchemy as alch\n",
    "from pathlib import Path\n",
    "import matplotlib\n",
    "import os\n",
    "import seaborn as sns\n"
   ]
  },
  {
   "cell_type": "code",
   "execution_count": 2,
   "outputs": [],
   "source": [
    "%matplotlib inline"
   ],
   "metadata": {
    "collapsed": false,
    "ExecuteTime": {
     "start_time": "2023-04-18T22:42:44.308710Z",
     "end_time": "2023-04-18T22:42:44.326245Z"
    }
   }
  },
  {
   "cell_type": "code",
   "execution_count": 3,
   "outputs": [
    {
     "name": "stdout",
     "output_type": "stream",
     "text": [
      "/home/tlsabara/Git/succotash\n"
     ]
    }
   ],
   "source": [
    "ROOT_DIR = Path(os.path.abspath(os.path.curdir)).parent\n",
    "print(ROOT_DIR)"
   ],
   "metadata": {
    "collapsed": false,
    "ExecuteTime": {
     "start_time": "2023-04-18T22:42:44.325245Z",
     "end_time": "2023-04-18T22:42:44.331254Z"
    }
   }
  },
  {
   "cell_type": "code",
   "execution_count": 4,
   "outputs": [],
   "source": [
    "src_data = ROOT_DIR / 'idesp_collector' / 'arquivo_scrap.csv'\n"
   ],
   "metadata": {
    "collapsed": false,
    "ExecuteTime": {
     "start_time": "2023-04-18T22:42:44.331254Z",
     "end_time": "2023-04-18T22:42:44.379917Z"
    }
   }
  },
  {
   "cell_type": "code",
   "execution_count": 5,
   "outputs": [
    {
     "name": "stderr",
     "output_type": "stream",
     "text": [
      "/tmp/ipykernel_767/196715292.py:1: DtypeWarning: Columns (10,11,12,13,14,15,16,17,18,19) have mixed types. Specify dtype option on import or set low_memory=False.\n",
      "  df = pd.read_csv(src_data)\n"
     ]
    }
   ],
   "source": [
    "df = pd.read_csv(src_data)"
   ],
   "metadata": {
    "collapsed": false,
    "ExecuteTime": {
     "start_time": "2023-04-18T22:42:44.340809Z",
     "end_time": "2023-04-18T22:42:44.601770Z"
    }
   }
  },
  {
   "cell_type": "code",
   "execution_count": 6,
   "outputs": [
    {
     "data": {
      "text/plain": "   error_id                                       request_data _REGICAO_NOME   \n0       1.0  {'escola': '040265', 'escola_nome': 'SANTA+RIT...      INTERIOR  \\\n1       2.0  {'escola': '034265', 'escola_nome': 'HOMERO+CA...      INTERIOR   \n2       3.0  {'escola': '035269', 'escola_nome': 'SYLAS+BAL...      INTERIOR   \n3       4.0  {'escola': '904223', 'escola_nome': 'ZILDA+COM...      INTERIOR   \n4       5.0  {'escola': '911884', 'escola_nome': 'MARIA+JOS...      INTERIOR   \n\n   _ANO  _DIRETORIA_ID  _MUNICIPIO_ID  _ESCOLA_ID  _ERROR_ID  _ERROR_INFOS   \n0  2012          21101            448       40265        NaN           NaN  \\\n1  2012          21004            652       34265        NaN           NaN   \n2  2012          21101            448       35269        NaN           NaN   \n3  2012          21004            612      904223        NaN           NaN   \n4  2012          21101            448      911884        NaN           NaN   \n\n   CODIGOCIE  ... DIRETORIA MUNICIPIO SERIE IDPort IDMat IndDesemp IndFluxo   \n0        NaN  ...       NaN       NaN   NaN    NaN   NaN       NaN      NaN  \\\n1        NaN  ...       NaN       NaN   NaN    NaN   NaN       NaN      NaN   \n2        NaN  ...       NaN       NaN   NaN    NaN   NaN       NaN      NaN   \n3        NaN  ...       NaN       NaN   NaN    NaN   NaN       NaN      NaN   \n4        NaN  ...       NaN       NaN   NaN    NaN   NaN       NaN      NaN   \n\n  IDESP META ORDEM  \n0   NaN  NaN   NaN  \n1   NaN  NaN   NaN  \n2   NaN  NaN   NaN  \n3   NaN  NaN   NaN  \n4   NaN  NaN   NaN  \n\n[5 rows x 21 columns]",
      "text/html": "<div>\n<style scoped>\n    .dataframe tbody tr th:only-of-type {\n        vertical-align: middle;\n    }\n\n    .dataframe tbody tr th {\n        vertical-align: top;\n    }\n\n    .dataframe thead th {\n        text-align: right;\n    }\n</style>\n<table border=\"1\" class=\"dataframe\">\n  <thead>\n    <tr style=\"text-align: right;\">\n      <th></th>\n      <th>error_id</th>\n      <th>request_data</th>\n      <th>_REGICAO_NOME</th>\n      <th>_ANO</th>\n      <th>_DIRETORIA_ID</th>\n      <th>_MUNICIPIO_ID</th>\n      <th>_ESCOLA_ID</th>\n      <th>_ERROR_ID</th>\n      <th>_ERROR_INFOS</th>\n      <th>CODIGOCIE</th>\n      <th>...</th>\n      <th>DIRETORIA</th>\n      <th>MUNICIPIO</th>\n      <th>SERIE</th>\n      <th>IDPort</th>\n      <th>IDMat</th>\n      <th>IndDesemp</th>\n      <th>IndFluxo</th>\n      <th>IDESP</th>\n      <th>META</th>\n      <th>ORDEM</th>\n    </tr>\n  </thead>\n  <tbody>\n    <tr>\n      <th>0</th>\n      <td>1.0</td>\n      <td>{'escola': '040265', 'escola_nome': 'SANTA+RIT...</td>\n      <td>INTERIOR</td>\n      <td>2012</td>\n      <td>21101</td>\n      <td>448</td>\n      <td>40265</td>\n      <td>NaN</td>\n      <td>NaN</td>\n      <td>NaN</td>\n      <td>...</td>\n      <td>NaN</td>\n      <td>NaN</td>\n      <td>NaN</td>\n      <td>NaN</td>\n      <td>NaN</td>\n      <td>NaN</td>\n      <td>NaN</td>\n      <td>NaN</td>\n      <td>NaN</td>\n      <td>NaN</td>\n    </tr>\n    <tr>\n      <th>1</th>\n      <td>2.0</td>\n      <td>{'escola': '034265', 'escola_nome': 'HOMERO+CA...</td>\n      <td>INTERIOR</td>\n      <td>2012</td>\n      <td>21004</td>\n      <td>652</td>\n      <td>34265</td>\n      <td>NaN</td>\n      <td>NaN</td>\n      <td>NaN</td>\n      <td>...</td>\n      <td>NaN</td>\n      <td>NaN</td>\n      <td>NaN</td>\n      <td>NaN</td>\n      <td>NaN</td>\n      <td>NaN</td>\n      <td>NaN</td>\n      <td>NaN</td>\n      <td>NaN</td>\n      <td>NaN</td>\n    </tr>\n    <tr>\n      <th>2</th>\n      <td>3.0</td>\n      <td>{'escola': '035269', 'escola_nome': 'SYLAS+BAL...</td>\n      <td>INTERIOR</td>\n      <td>2012</td>\n      <td>21101</td>\n      <td>448</td>\n      <td>35269</td>\n      <td>NaN</td>\n      <td>NaN</td>\n      <td>NaN</td>\n      <td>...</td>\n      <td>NaN</td>\n      <td>NaN</td>\n      <td>NaN</td>\n      <td>NaN</td>\n      <td>NaN</td>\n      <td>NaN</td>\n      <td>NaN</td>\n      <td>NaN</td>\n      <td>NaN</td>\n      <td>NaN</td>\n    </tr>\n    <tr>\n      <th>3</th>\n      <td>4.0</td>\n      <td>{'escola': '904223', 'escola_nome': 'ZILDA+COM...</td>\n      <td>INTERIOR</td>\n      <td>2012</td>\n      <td>21004</td>\n      <td>612</td>\n      <td>904223</td>\n      <td>NaN</td>\n      <td>NaN</td>\n      <td>NaN</td>\n      <td>...</td>\n      <td>NaN</td>\n      <td>NaN</td>\n      <td>NaN</td>\n      <td>NaN</td>\n      <td>NaN</td>\n      <td>NaN</td>\n      <td>NaN</td>\n      <td>NaN</td>\n      <td>NaN</td>\n      <td>NaN</td>\n    </tr>\n    <tr>\n      <th>4</th>\n      <td>5.0</td>\n      <td>{'escola': '911884', 'escola_nome': 'MARIA+JOS...</td>\n      <td>INTERIOR</td>\n      <td>2012</td>\n      <td>21101</td>\n      <td>448</td>\n      <td>911884</td>\n      <td>NaN</td>\n      <td>NaN</td>\n      <td>NaN</td>\n      <td>...</td>\n      <td>NaN</td>\n      <td>NaN</td>\n      <td>NaN</td>\n      <td>NaN</td>\n      <td>NaN</td>\n      <td>NaN</td>\n      <td>NaN</td>\n      <td>NaN</td>\n      <td>NaN</td>\n      <td>NaN</td>\n    </tr>\n  </tbody>\n</table>\n<p>5 rows × 21 columns</p>\n</div>"
     },
     "execution_count": 6,
     "metadata": {},
     "output_type": "execute_result"
    }
   ],
   "source": [
    "df.head()"
   ],
   "metadata": {
    "collapsed": false,
    "ExecuteTime": {
     "start_time": "2023-04-18T22:42:44.601770Z",
     "end_time": "2023-04-18T22:42:44.667978Z"
    }
   }
  },
  {
   "cell_type": "code",
   "execution_count": 7,
   "outputs": [],
   "source": [
    "df_erros = df[['error_id', 'request_data']]\n",
    "df = df.drop(['error_id', 'request_data', '_ERROR_ID', '_ERROR_INFOS'], axis=1)"
   ],
   "metadata": {
    "collapsed": false,
    "ExecuteTime": {
     "start_time": "2023-04-18T22:42:44.627351Z",
     "end_time": "2023-04-18T22:42:44.668979Z"
    }
   }
  },
  {
   "cell_type": "code",
   "execution_count": 8,
   "outputs": [
    {
     "data": {
      "text/plain": "  _REGICAO_NOME  _ANO  _DIRETORIA_ID  _MUNICIPIO_ID  _ESCOLA_ID  CODIGOCIE   \n0      INTERIOR  2012          21101            448       40265        NaN  \\\n1      INTERIOR  2012          21004            652       34265        NaN   \n2      INTERIOR  2012          21101            448       35269        NaN   \n3      INTERIOR  2012          21004            612      904223        NaN   \n4      INTERIOR  2012          21101            448      911884        NaN   \n\n  ESCOLA DIRETORIA MUNICIPIO SERIE IDPort IDMat IndDesemp IndFluxo IDESP META   \n0    NaN       NaN       NaN   NaN    NaN   NaN       NaN      NaN   NaN  NaN  \\\n1    NaN       NaN       NaN   NaN    NaN   NaN       NaN      NaN   NaN  NaN   \n2    NaN       NaN       NaN   NaN    NaN   NaN       NaN      NaN   NaN  NaN   \n3    NaN       NaN       NaN   NaN    NaN   NaN       NaN      NaN   NaN  NaN   \n4    NaN       NaN       NaN   NaN    NaN   NaN       NaN      NaN   NaN  NaN   \n\n   ORDEM  \n0    NaN  \n1    NaN  \n2    NaN  \n3    NaN  \n4    NaN  ",
      "text/html": "<div>\n<style scoped>\n    .dataframe tbody tr th:only-of-type {\n        vertical-align: middle;\n    }\n\n    .dataframe tbody tr th {\n        vertical-align: top;\n    }\n\n    .dataframe thead th {\n        text-align: right;\n    }\n</style>\n<table border=\"1\" class=\"dataframe\">\n  <thead>\n    <tr style=\"text-align: right;\">\n      <th></th>\n      <th>_REGICAO_NOME</th>\n      <th>_ANO</th>\n      <th>_DIRETORIA_ID</th>\n      <th>_MUNICIPIO_ID</th>\n      <th>_ESCOLA_ID</th>\n      <th>CODIGOCIE</th>\n      <th>ESCOLA</th>\n      <th>DIRETORIA</th>\n      <th>MUNICIPIO</th>\n      <th>SERIE</th>\n      <th>IDPort</th>\n      <th>IDMat</th>\n      <th>IndDesemp</th>\n      <th>IndFluxo</th>\n      <th>IDESP</th>\n      <th>META</th>\n      <th>ORDEM</th>\n    </tr>\n  </thead>\n  <tbody>\n    <tr>\n      <th>0</th>\n      <td>INTERIOR</td>\n      <td>2012</td>\n      <td>21101</td>\n      <td>448</td>\n      <td>40265</td>\n      <td>NaN</td>\n      <td>NaN</td>\n      <td>NaN</td>\n      <td>NaN</td>\n      <td>NaN</td>\n      <td>NaN</td>\n      <td>NaN</td>\n      <td>NaN</td>\n      <td>NaN</td>\n      <td>NaN</td>\n      <td>NaN</td>\n      <td>NaN</td>\n    </tr>\n    <tr>\n      <th>1</th>\n      <td>INTERIOR</td>\n      <td>2012</td>\n      <td>21004</td>\n      <td>652</td>\n      <td>34265</td>\n      <td>NaN</td>\n      <td>NaN</td>\n      <td>NaN</td>\n      <td>NaN</td>\n      <td>NaN</td>\n      <td>NaN</td>\n      <td>NaN</td>\n      <td>NaN</td>\n      <td>NaN</td>\n      <td>NaN</td>\n      <td>NaN</td>\n      <td>NaN</td>\n    </tr>\n    <tr>\n      <th>2</th>\n      <td>INTERIOR</td>\n      <td>2012</td>\n      <td>21101</td>\n      <td>448</td>\n      <td>35269</td>\n      <td>NaN</td>\n      <td>NaN</td>\n      <td>NaN</td>\n      <td>NaN</td>\n      <td>NaN</td>\n      <td>NaN</td>\n      <td>NaN</td>\n      <td>NaN</td>\n      <td>NaN</td>\n      <td>NaN</td>\n      <td>NaN</td>\n      <td>NaN</td>\n    </tr>\n    <tr>\n      <th>3</th>\n      <td>INTERIOR</td>\n      <td>2012</td>\n      <td>21004</td>\n      <td>612</td>\n      <td>904223</td>\n      <td>NaN</td>\n      <td>NaN</td>\n      <td>NaN</td>\n      <td>NaN</td>\n      <td>NaN</td>\n      <td>NaN</td>\n      <td>NaN</td>\n      <td>NaN</td>\n      <td>NaN</td>\n      <td>NaN</td>\n      <td>NaN</td>\n      <td>NaN</td>\n    </tr>\n    <tr>\n      <th>4</th>\n      <td>INTERIOR</td>\n      <td>2012</td>\n      <td>21101</td>\n      <td>448</td>\n      <td>911884</td>\n      <td>NaN</td>\n      <td>NaN</td>\n      <td>NaN</td>\n      <td>NaN</td>\n      <td>NaN</td>\n      <td>NaN</td>\n      <td>NaN</td>\n      <td>NaN</td>\n      <td>NaN</td>\n      <td>NaN</td>\n      <td>NaN</td>\n      <td>NaN</td>\n    </tr>\n  </tbody>\n</table>\n</div>"
     },
     "execution_count": 8,
     "metadata": {},
     "output_type": "execute_result"
    }
   ],
   "source": [
    "df.head()"
   ],
   "metadata": {
    "collapsed": false,
    "ExecuteTime": {
     "start_time": "2023-04-18T22:42:44.633355Z",
     "end_time": "2023-04-18T22:42:44.669979Z"
    }
   }
  },
  {
   "cell_type": "code",
   "execution_count": 9,
   "outputs": [
    {
     "data": {
      "text/plain": "_REGICAO_NOME    0.000000\n_ANO             0.000000\n_DIRETORIA_ID    0.000000\n_MUNICIPIO_ID    0.000000\n_ESCOLA_ID       0.000000\nCODIGOCIE        0.688024\nESCOLA           0.688024\nDIRETORIA        0.688024\nMUNICIPIO        0.688024\nSERIE            0.688024\nIDPort           0.688024\nIDMat            0.688024\nIndDesemp        0.688024\nIndFluxo         0.688024\nIDESP            0.688024\nMETA             0.843213\nORDEM            0.688024\ndtype: float64"
     },
     "execution_count": 9,
     "metadata": {},
     "output_type": "execute_result"
    }
   ],
   "source": [
    "df.isna().mean()"
   ],
   "metadata": {
    "collapsed": false,
    "ExecuteTime": {
     "start_time": "2023-04-18T22:42:44.647416Z",
     "end_time": "2023-04-18T22:42:44.714446Z"
    }
   }
  },
  {
   "cell_type": "markdown",
   "source": [
    "# 68% das escolas sem dados"
   ],
   "metadata": {
    "collapsed": false
   }
  },
  {
   "cell_type": "code",
   "execution_count": 10,
   "outputs": [
    {
     "name": "stdout",
     "output_type": "stream",
     "text": [
      "<class 'pandas.core.frame.DataFrame'>\n",
      "RangeIndex: 55719 entries, 0 to 55718\n",
      "Data columns (total 17 columns):\n",
      " #   Column         Non-Null Count  Dtype  \n",
      "---  ------         --------------  -----  \n",
      " 0   _REGICAO_NOME  55719 non-null  object \n",
      " 1   _ANO           55719 non-null  int64  \n",
      " 2   _DIRETORIA_ID  55719 non-null  int64  \n",
      " 3   _MUNICIPIO_ID  55719 non-null  int64  \n",
      " 4   _ESCOLA_ID     55719 non-null  int64  \n",
      " 5   CODIGOCIE      17383 non-null  float64\n",
      " 6   ESCOLA         17383 non-null  object \n",
      " 7   DIRETORIA      17383 non-null  object \n",
      " 8   MUNICIPIO      17383 non-null  object \n",
      " 9   SERIE          17383 non-null  object \n",
      " 10  IDPort         17383 non-null  object \n",
      " 11  IDMat          17383 non-null  object \n",
      " 12  IndDesemp      17383 non-null  object \n",
      " 13  IndFluxo       17383 non-null  object \n",
      " 14  IDESP          17383 non-null  object \n",
      " 15  META           8736 non-null   object \n",
      " 16  ORDEM          17383 non-null  float64\n",
      "dtypes: float64(2), int64(4), object(11)\n",
      "memory usage: 7.2+ MB\n"
     ]
    }
   ],
   "source": [
    "df.info()"
   ],
   "metadata": {
    "collapsed": false,
    "ExecuteTime": {
     "start_time": "2023-04-18T22:42:44.684658Z",
     "end_time": "2023-04-18T22:42:44.826309Z"
    }
   }
  },
  {
   "cell_type": "code",
   "execution_count": 11,
   "outputs": [
    {
     "data": {
      "text/plain": "  _REGICAO_NOME  _ANO  _DIRETORIA_ID  _MUNICIPIO_ID  _ESCOLA_ID  CODIGOCIE   \n0      INTERIOR  2012          21101            448       40265        0.0  \\\n1      INTERIOR  2012          21004            652       34265        0.0   \n2      INTERIOR  2012          21101            448       35269        0.0   \n3      INTERIOR  2012          21004            612      904223        0.0   \n4      INTERIOR  2012          21101            448      911884        0.0   \n\n  ESCOLA DIRETORIA MUNICIPIO SERIE IDPort IDMat IndDesemp IndFluxo IDESP META   \n0      0         0         0     0      0     0         0        0     0    0  \\\n1      0         0         0     0      0     0         0        0     0    0   \n2      0         0         0     0      0     0         0        0     0    0   \n3      0         0         0     0      0     0         0        0     0    0   \n4      0         0         0     0      0     0         0        0     0    0   \n\n   ORDEM  \n0    0.0  \n1    0.0  \n2    0.0  \n3    0.0  \n4    0.0  ",
      "text/html": "<div>\n<style scoped>\n    .dataframe tbody tr th:only-of-type {\n        vertical-align: middle;\n    }\n\n    .dataframe tbody tr th {\n        vertical-align: top;\n    }\n\n    .dataframe thead th {\n        text-align: right;\n    }\n</style>\n<table border=\"1\" class=\"dataframe\">\n  <thead>\n    <tr style=\"text-align: right;\">\n      <th></th>\n      <th>_REGICAO_NOME</th>\n      <th>_ANO</th>\n      <th>_DIRETORIA_ID</th>\n      <th>_MUNICIPIO_ID</th>\n      <th>_ESCOLA_ID</th>\n      <th>CODIGOCIE</th>\n      <th>ESCOLA</th>\n      <th>DIRETORIA</th>\n      <th>MUNICIPIO</th>\n      <th>SERIE</th>\n      <th>IDPort</th>\n      <th>IDMat</th>\n      <th>IndDesemp</th>\n      <th>IndFluxo</th>\n      <th>IDESP</th>\n      <th>META</th>\n      <th>ORDEM</th>\n    </tr>\n  </thead>\n  <tbody>\n    <tr>\n      <th>0</th>\n      <td>INTERIOR</td>\n      <td>2012</td>\n      <td>21101</td>\n      <td>448</td>\n      <td>40265</td>\n      <td>0.0</td>\n      <td>0</td>\n      <td>0</td>\n      <td>0</td>\n      <td>0</td>\n      <td>0</td>\n      <td>0</td>\n      <td>0</td>\n      <td>0</td>\n      <td>0</td>\n      <td>0</td>\n      <td>0.0</td>\n    </tr>\n    <tr>\n      <th>1</th>\n      <td>INTERIOR</td>\n      <td>2012</td>\n      <td>21004</td>\n      <td>652</td>\n      <td>34265</td>\n      <td>0.0</td>\n      <td>0</td>\n      <td>0</td>\n      <td>0</td>\n      <td>0</td>\n      <td>0</td>\n      <td>0</td>\n      <td>0</td>\n      <td>0</td>\n      <td>0</td>\n      <td>0</td>\n      <td>0.0</td>\n    </tr>\n    <tr>\n      <th>2</th>\n      <td>INTERIOR</td>\n      <td>2012</td>\n      <td>21101</td>\n      <td>448</td>\n      <td>35269</td>\n      <td>0.0</td>\n      <td>0</td>\n      <td>0</td>\n      <td>0</td>\n      <td>0</td>\n      <td>0</td>\n      <td>0</td>\n      <td>0</td>\n      <td>0</td>\n      <td>0</td>\n      <td>0</td>\n      <td>0.0</td>\n    </tr>\n    <tr>\n      <th>3</th>\n      <td>INTERIOR</td>\n      <td>2012</td>\n      <td>21004</td>\n      <td>612</td>\n      <td>904223</td>\n      <td>0.0</td>\n      <td>0</td>\n      <td>0</td>\n      <td>0</td>\n      <td>0</td>\n      <td>0</td>\n      <td>0</td>\n      <td>0</td>\n      <td>0</td>\n      <td>0</td>\n      <td>0</td>\n      <td>0.0</td>\n    </tr>\n    <tr>\n      <th>4</th>\n      <td>INTERIOR</td>\n      <td>2012</td>\n      <td>21101</td>\n      <td>448</td>\n      <td>911884</td>\n      <td>0.0</td>\n      <td>0</td>\n      <td>0</td>\n      <td>0</td>\n      <td>0</td>\n      <td>0</td>\n      <td>0</td>\n      <td>0</td>\n      <td>0</td>\n      <td>0</td>\n      <td>0</td>\n      <td>0.0</td>\n    </tr>\n  </tbody>\n</table>\n</div>"
     },
     "execution_count": 11,
     "metadata": {},
     "output_type": "execute_result"
    }
   ],
   "source": [
    "# NaN Replacement\n",
    "\n",
    "df.fillna(0, inplace=True)\n",
    "df.head()"
   ],
   "metadata": {
    "collapsed": false,
    "ExecuteTime": {
     "start_time": "2023-04-18T22:42:44.716967Z",
     "end_time": "2023-04-18T22:42:44.968268Z"
    }
   }
  },
  {
   "cell_type": "code",
   "execution_count": 12,
   "outputs": [
    {
     "data": {
      "text/plain": "Index(['_REGICAO_NOME', '_ANO', '_DIRETORIA_ID', '_MUNICIPIO_ID', '_ESCOLA_ID',\n       'CODIGOCIE', 'ESCOLA', 'DIRETORIA', 'MUNICIPIO', 'SERIE', 'IDPort',\n       'IDMat', 'IndDesemp', 'IndFluxo', 'IDESP', 'META', 'ORDEM'],\n      dtype='object')"
     },
     "execution_count": 12,
     "metadata": {},
     "output_type": "execute_result"
    }
   ],
   "source": [
    "df.columns"
   ],
   "metadata": {
    "collapsed": false,
    "ExecuteTime": {
     "start_time": "2023-04-18T22:42:44.756105Z",
     "end_time": "2023-04-18T22:42:44.995348Z"
    }
   }
  },
  {
   "cell_type": "code",
   "execution_count": 13,
   "outputs": [],
   "source": [
    "# Correct columns types\n",
    "\n",
    "cl = ['IDPort', 'IDMat', 'IndDesemp', 'IndFluxo', 'IDESP', 'META']\n",
    "\n",
    "for i in cl:\n",
    "    df[i] = df[i].apply(lambda x: str(x).replace(',', '.'))\n",
    "\n",
    "df.IDMat = df['IDMat'].astype('float64')\n",
    "df.IDPort = df['IDPort'].astype('float64')\n",
    "df.IndDesemp = df['IndDesemp'].astype('float64')\n",
    "df.IndFluxo = df['IndFluxo'].astype('float64')\n",
    "df.META = df['IDMat'].astype('float64')\n"
   ],
   "metadata": {
    "collapsed": false,
    "ExecuteTime": {
     "start_time": "2023-04-18T22:42:44.762638Z",
     "end_time": "2023-04-18T22:42:45.012387Z"
    }
   }
  },
  {
   "cell_type": "code",
   "execution_count": 14,
   "outputs": [
    {
     "data": {
      "text/plain": "  _REGICAO_NOME  _ANO  _DIRETORIA_ID  _MUNICIPIO_ID  _ESCOLA_ID  CODIGOCIE   \n0      INTERIOR  2012          21101            448       40265        0.0  \\\n1      INTERIOR  2012          21004            652       34265        0.0   \n2      INTERIOR  2012          21101            448       35269        0.0   \n3      INTERIOR  2012          21004            612      904223        0.0   \n4      INTERIOR  2012          21101            448      911884        0.0   \n\n  ESCOLA DIRETORIA MUNICIPIO SERIE  IDPort  IDMat  IndDesemp  IndFluxo IDESP   \n0      0         0         0     0     0.0    0.0        0.0       0.0     0  \\\n1      0         0         0     0     0.0    0.0        0.0       0.0     0   \n2      0         0         0     0     0.0    0.0        0.0       0.0     0   \n3      0         0         0     0     0.0    0.0        0.0       0.0     0   \n4      0         0         0     0     0.0    0.0        0.0       0.0     0   \n\n   META  ORDEM  \n0   0.0    0.0  \n1   0.0    0.0  \n2   0.0    0.0  \n3   0.0    0.0  \n4   0.0    0.0  ",
      "text/html": "<div>\n<style scoped>\n    .dataframe tbody tr th:only-of-type {\n        vertical-align: middle;\n    }\n\n    .dataframe tbody tr th {\n        vertical-align: top;\n    }\n\n    .dataframe thead th {\n        text-align: right;\n    }\n</style>\n<table border=\"1\" class=\"dataframe\">\n  <thead>\n    <tr style=\"text-align: right;\">\n      <th></th>\n      <th>_REGICAO_NOME</th>\n      <th>_ANO</th>\n      <th>_DIRETORIA_ID</th>\n      <th>_MUNICIPIO_ID</th>\n      <th>_ESCOLA_ID</th>\n      <th>CODIGOCIE</th>\n      <th>ESCOLA</th>\n      <th>DIRETORIA</th>\n      <th>MUNICIPIO</th>\n      <th>SERIE</th>\n      <th>IDPort</th>\n      <th>IDMat</th>\n      <th>IndDesemp</th>\n      <th>IndFluxo</th>\n      <th>IDESP</th>\n      <th>META</th>\n      <th>ORDEM</th>\n    </tr>\n  </thead>\n  <tbody>\n    <tr>\n      <th>0</th>\n      <td>INTERIOR</td>\n      <td>2012</td>\n      <td>21101</td>\n      <td>448</td>\n      <td>40265</td>\n      <td>0.0</td>\n      <td>0</td>\n      <td>0</td>\n      <td>0</td>\n      <td>0</td>\n      <td>0.0</td>\n      <td>0.0</td>\n      <td>0.0</td>\n      <td>0.0</td>\n      <td>0</td>\n      <td>0.0</td>\n      <td>0.0</td>\n    </tr>\n    <tr>\n      <th>1</th>\n      <td>INTERIOR</td>\n      <td>2012</td>\n      <td>21004</td>\n      <td>652</td>\n      <td>34265</td>\n      <td>0.0</td>\n      <td>0</td>\n      <td>0</td>\n      <td>0</td>\n      <td>0</td>\n      <td>0.0</td>\n      <td>0.0</td>\n      <td>0.0</td>\n      <td>0.0</td>\n      <td>0</td>\n      <td>0.0</td>\n      <td>0.0</td>\n    </tr>\n    <tr>\n      <th>2</th>\n      <td>INTERIOR</td>\n      <td>2012</td>\n      <td>21101</td>\n      <td>448</td>\n      <td>35269</td>\n      <td>0.0</td>\n      <td>0</td>\n      <td>0</td>\n      <td>0</td>\n      <td>0</td>\n      <td>0.0</td>\n      <td>0.0</td>\n      <td>0.0</td>\n      <td>0.0</td>\n      <td>0</td>\n      <td>0.0</td>\n      <td>0.0</td>\n    </tr>\n    <tr>\n      <th>3</th>\n      <td>INTERIOR</td>\n      <td>2012</td>\n      <td>21004</td>\n      <td>612</td>\n      <td>904223</td>\n      <td>0.0</td>\n      <td>0</td>\n      <td>0</td>\n      <td>0</td>\n      <td>0</td>\n      <td>0.0</td>\n      <td>0.0</td>\n      <td>0.0</td>\n      <td>0.0</td>\n      <td>0</td>\n      <td>0.0</td>\n      <td>0.0</td>\n    </tr>\n    <tr>\n      <th>4</th>\n      <td>INTERIOR</td>\n      <td>2012</td>\n      <td>21101</td>\n      <td>448</td>\n      <td>911884</td>\n      <td>0.0</td>\n      <td>0</td>\n      <td>0</td>\n      <td>0</td>\n      <td>0</td>\n      <td>0.0</td>\n      <td>0.0</td>\n      <td>0.0</td>\n      <td>0.0</td>\n      <td>0</td>\n      <td>0.0</td>\n      <td>0.0</td>\n    </tr>\n  </tbody>\n</table>\n</div>"
     },
     "execution_count": 14,
     "metadata": {},
     "output_type": "execute_result"
    }
   ],
   "source": [
    "df.head()"
   ],
   "metadata": {
    "collapsed": false,
    "ExecuteTime": {
     "start_time": "2023-04-18T22:42:44.897521Z",
     "end_time": "2023-04-18T22:42:45.013387Z"
    }
   }
  },
  {
   "cell_type": "code",
   "execution_count": null,
   "outputs": [
    {
     "data": {
      "text/plain": "<seaborn.axisgrid.PairGrid at 0x7f0cb49e7370>"
     },
     "execution_count": 15,
     "metadata": {},
     "output_type": "execute_result"
    }
   ],
   "source": [
    "sns.pairplot(data=df)"
   ],
   "metadata": {
    "collapsed": false,
    "ExecuteTime": {
     "start_time": "2023-04-17T15:57:50.491585Z",
     "end_time": "2023-04-17T15:59:18.954743Z"
    },
    "pycharm": {
     "is_executing": true
    }
   }
  },
  {
   "cell_type": "code",
   "execution_count": null,
   "outputs": [],
   "source": [],
   "metadata": {
    "collapsed": false,
    "pycharm": {
     "is_executing": true
    }
   }
  }
 ],
 "metadata": {
  "kernelspec": {
   "display_name": "Python 3",
   "language": "python",
   "name": "python3"
  },
  "language_info": {
   "codemirror_mode": {
    "name": "ipython",
    "version": 2
   },
   "file_extension": ".py",
   "mimetype": "text/x-python",
   "name": "python",
   "nbconvert_exporter": "python",
   "pygments_lexer": "ipython2",
   "version": "2.7.6"
  }
 },
 "nbformat": 4,
 "nbformat_minor": 0
}
